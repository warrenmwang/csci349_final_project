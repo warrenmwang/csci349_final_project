{
 "cells": [
  {
   "cell_type": "markdown",
   "metadata": {},
   "source": [
    "## Modeling_AssociationRules.ipynb\n",
    "### Due: April 23\n",
    "\n",
    "Here we explore the usage of Association Rule Mining with our anime watchlists.\n",
    "Each transaction will be the set of anime watched by a user. We will make use of the Apriori Algorithm\n",
    "to generate the frequent itemsets from the transactions and find the strongest association rules to be used as predictors\n",
    "of what anime a person might like to watch given other anime they have enjoyed."
   ]
  },
  {
   "cell_type": "code",
   "execution_count": 1,
   "metadata": {},
   "outputs": [
    {
     "name": "stderr",
     "output_type": "stream",
     "text": [
      "/tmp/ipykernel_168659/4080736814.py:1: DeprecationWarning: \n",
      "Pyarrow will become a required dependency of pandas in the next major release of pandas (pandas 3.0),\n",
      "(to allow more performant data types, such as the Arrow string type, and better interoperability with other libraries)\n",
      "but was not found to be installed on your system.\n",
      "If this would cause problems for you,\n",
      "please provide us feedback at https://github.com/pandas-dev/pandas/issues/54466\n",
      "        \n",
      "  import pandas as pd\n"
     ]
    }
   ],
   "source": [
    "import pandas as pd"
   ]
  },
  {
   "cell_type": "markdown",
   "metadata": {},
   "source": [
    "### Load in Dataset and Do some Data Preprocessing"
   ]
  },
  {
   "cell_type": "code",
   "execution_count": 2,
   "metadata": {},
   "outputs": [
    {
     "name": "stdout",
     "output_type": "stream",
     "text": [
      "<class 'pandas.core.frame.DataFrame'>\n",
      "RangeIndex: 31284030 entries, 0 to 31284029\n",
      "Data columns (total 11 columns):\n",
      " #   Column               Dtype  \n",
      "---  ------               -----  \n",
      " 0   username             object \n",
      " 1   anime_id             int64  \n",
      " 2   my_watched_episodes  int64  \n",
      " 3   my_start_date        object \n",
      " 4   my_finish_date       object \n",
      " 5   my_score             int64  \n",
      " 6   my_status            int64  \n",
      " 7   my_rewatching        float64\n",
      " 8   my_rewatching_ep     int64  \n",
      " 9   my_last_updated      object \n",
      " 10  my_tags              object \n",
      "dtypes: float64(1), int64(5), object(5)\n",
      "memory usage: 2.6+ GB\n"
     ]
    }
   ],
   "source": [
    "df_anime_lists = pd.read_csv(\"./data/animelists_cleaned.csv\")\n",
    "df_anime_lists.info()"
   ]
  },
  {
   "cell_type": "code",
   "execution_count": 3,
   "metadata": {},
   "outputs": [],
   "source": [
    "def getMemUsageInMB(df : pd.DataFrame) -> float:\n",
    "    return df.memory_usage(deep=True).sum() / 2**20"
   ]
  },
  {
   "cell_type": "code",
   "execution_count": 4,
   "metadata": {},
   "outputs": [
    {
     "name": "stdout",
     "output_type": "stream",
     "text": [
      "Total memory used by dataframe: 10738.10 MB\n"
     ]
    }
   ],
   "source": [
    "orig_mem = getMemUsageInMB(df_anime_lists)\n",
    "print(f\"Total memory used by dataframe: {orig_mem :.2f} MB\")"
   ]
  },
  {
   "cell_type": "code",
   "execution_count": 5,
   "metadata": {},
   "outputs": [
    {
     "data": {
      "text/plain": [
       "username               0.000008\n",
       "anime_id               0.000000\n",
       "my_watched_episodes    0.000000\n",
       "my_start_date          0.000000\n",
       "my_finish_date         0.000000\n",
       "my_score               0.000000\n",
       "my_status              0.000000\n",
       "my_rewatching          0.219864\n",
       "my_rewatching_ep       0.000000\n",
       "my_last_updated        0.000000\n",
       "my_tags                0.936274\n",
       "dtype: float64"
      ]
     },
     "execution_count": 5,
     "metadata": {},
     "output_type": "execute_result"
    }
   ],
   "source": [
    "# percentage of NaN values in each column\n",
    "df_anime_lists.isna().sum() / (df_anime_lists.isna().sum() + df_anime_lists.count())"
   ]
  },
  {
   "cell_type": "code",
   "execution_count": 6,
   "metadata": {},
   "outputs": [],
   "source": [
    "# remove extraneous columns that we are not using for association rule mining.\n",
    "df_anime_lists.drop(columns=df_anime_lists.columns[2:], inplace=True)\n",
    "\n",
    "# let's try to downcast the int data types.\n",
    "intCols = df_anime_lists.select_dtypes('int').columns\n",
    "df_anime_lists[intCols] = df_anime_lists[intCols].apply(pd.to_numeric, downcast='integer')\n",
    "\n",
    "# downcast float data types\n",
    "fcols = df_anime_lists.select_dtypes('float').columns\n",
    "df_anime_lists[fcols] = df_anime_lists[fcols].apply(pd.to_numeric, downcast='float') "
   ]
  },
  {
   "cell_type": "code",
   "execution_count": 7,
   "metadata": {},
   "outputs": [
    {
     "name": "stdout",
     "output_type": "stream",
     "text": [
      "Total memory used by dataframe: 2088.10 MB\n",
      "Memory Usage Reduction: 80.55431970379016%\n"
     ]
    }
   ],
   "source": [
    "tmp = getMemUsageInMB(df_anime_lists)\n",
    "print(f\"Total memory used by dataframe: {tmp :.2f} MB\")\n",
    "\n",
    "# memory reduced by:\n",
    "print(f\"Memory Usage Reduction: {((orig_mem - tmp)/orig_mem) * 100}%\")\n",
    "del tmp"
   ]
  },
  {
   "cell_type": "code",
   "execution_count": 8,
   "metadata": {},
   "outputs": [
    {
     "name": "stdout",
     "output_type": "stream",
     "text": [
      "<class 'pandas.core.frame.DataFrame'>\n",
      "RangeIndex: 31284030 entries, 0 to 31284029\n",
      "Data columns (total 2 columns):\n",
      " #   Column    Dtype \n",
      "---  ------    ----- \n",
      " 0   username  object\n",
      " 1   anime_id  int32 \n",
      "dtypes: int32(1), object(1)\n",
      "memory usage: 358.0+ MB\n"
     ]
    }
   ],
   "source": [
    "df_anime_lists.info()"
   ]
  },
  {
   "cell_type": "markdown",
   "metadata": {},
   "source": [
    "# Formulate the Transactions and Find Frequent Itemsets"
   ]
  },
  {
   "cell_type": "code",
   "execution_count": 9,
   "metadata": {},
   "outputs": [],
   "source": [
    "from mlxtend.preprocessing import TransactionEncoder\n",
    "from mlxtend.frequent_patterns import apriori\n",
    "from mlxtend.frequent_patterns import association_rules"
   ]
  },
  {
   "cell_type": "code",
   "execution_count": 10,
   "metadata": {},
   "outputs": [
    {
     "data": {
      "text/plain": [
       "username\n",
       "----phoebelyn       [21, 120, 853, 957, 1571, 1579, 1698, 1735, 1,...\n",
       "---L-AND-AME-4EV                                           [20, 1535]\n",
       "--AnimeBoy--        [21, 59, 74, 210, 232, 249, 853, 1557, 1735, 2...\n",
       "--Etsuko--          [3092, 4814, 7054, 7674, 9926, 11013, 11123, 1...\n",
       "--FallenAngel--     [21, 59, 210, 249, 269, 853, 857, 957, 1579, 1...\n",
       "                                          ...                        \n",
       "zzshinzozz          [21, 232, 249, 1735, 7054, 9513, 9863, 10800, ...\n",
       "zzvl                [120, 269, 853, 4224, 6045, 7054, 9926, 10800,...\n",
       "zzz275              [59, 120, 853, 1571, 1698, 2104, 4477, 1, 16, ...\n",
       "zzzcielo            [21, 74, 269, 853, 857, 957, 1698, 1735, 3731,...\n",
       "zzzzz-chan          [21, 59, 120, 210, 232, 269, 853, 857, 1735, 3...\n",
       "Name: anime_id, Length: 108709, dtype: object"
      ]
     },
     "execution_count": 10,
     "metadata": {},
     "output_type": "execute_result"
    }
   ],
   "source": [
    "transactions = df_anime_lists.groupby('username')['anime_id'].apply(list)\n",
    "transactions"
   ]
  },
  {
   "cell_type": "code",
   "execution_count": 11,
   "metadata": {},
   "outputs": [
    {
     "name": "stdout",
     "output_type": "stream",
     "text": [
      "<class 'pandas.core.frame.DataFrame'>\n",
      "RangeIndex: 6668 entries, 0 to 6667\n",
      "Data columns (total 33 columns):\n",
      " #   Column           Non-Null Count  Dtype  \n",
      "---  ------           --------------  -----  \n",
      " 0   anime_id         6668 non-null   int64  \n",
      " 1   title            6668 non-null   object \n",
      " 2   title_english    3438 non-null   object \n",
      " 3   title_japanese   6663 non-null   object \n",
      " 4   title_synonyms   4481 non-null   object \n",
      " 5   image_url        6666 non-null   object \n",
      " 6   type             6668 non-null   object \n",
      " 7   source           6668 non-null   object \n",
      " 8   episodes         6668 non-null   int64  \n",
      " 9   status           6668 non-null   object \n",
      " 10  airing           6668 non-null   bool   \n",
      " 11  aired_string     6668 non-null   object \n",
      " 12  aired            6668 non-null   object \n",
      " 13  duration         6668 non-null   object \n",
      " 14  rating           6586 non-null   object \n",
      " 15  score            6668 non-null   float64\n",
      " 16  scored_by        6668 non-null   int64  \n",
      " 17  rank             6312 non-null   float64\n",
      " 18  popularity       6668 non-null   int64  \n",
      " 19  members          6668 non-null   int64  \n",
      " 20  favorites        6668 non-null   int64  \n",
      " 21  background       813 non-null    object \n",
      " 22  premiered        2966 non-null   object \n",
      " 23  broadcast        2980 non-null   object \n",
      " 24  related          6668 non-null   object \n",
      " 25  producer         4402 non-null   object \n",
      " 26  licensor         2787 non-null   object \n",
      " 27  studio           6668 non-null   object \n",
      " 28  genre            6664 non-null   object \n",
      " 29  opening_theme    6668 non-null   object \n",
      " 30  ending_theme     6668 non-null   object \n",
      " 31  duration_min     6668 non-null   float64\n",
      " 32  aired_from_year  6668 non-null   float64\n",
      "dtypes: bool(1), float64(4), int64(6), object(22)\n",
      "memory usage: 1.6+ MB\n"
     ]
    }
   ],
   "source": [
    "# convert the ids into their English Anime Name\n",
    "df_anime = pd.read_csv(\"./data/anime_cleaned.csv\")\n",
    "df_anime.info()"
   ]
  },
  {
   "cell_type": "code",
   "execution_count": 12,
   "metadata": {},
   "outputs": [
    {
     "name": "stdout",
     "output_type": "stream",
     "text": [
      "<class 'pandas.core.frame.DataFrame'>\n",
      "RangeIndex: 6668 entries, 0 to 6667\n",
      "Data columns (total 2 columns):\n",
      " #   Column    Non-Null Count  Dtype \n",
      "---  ------    --------------  ----- \n",
      " 0   anime_id  6668 non-null   int64 \n",
      " 1   title     6668 non-null   object\n",
      "dtypes: int64(1), object(1)\n",
      "memory usage: 104.3+ KB\n"
     ]
    }
   ],
   "source": [
    "# since some of the title_english column values are not present, we will use the regular `title` which appears to be English at first glance anyways.\n",
    "# to save on memory usage, just grab columns of interest: [anime_id, title]\n",
    "\n",
    "# get mapping from ids into names\n",
    "animeIdToName = {}\n",
    "def foo(row):\n",
    "    animeIdToName[row.anime_id] = row.title\n",
    "df_anime.apply(foo, axis=1)\n",
    "\n",
    "transactions = transactions.apply(lambda x: [animeIdToName[i] for i in x])\n",
    "\n",
    "# remove all other columns except the anime_id and title.\n",
    "df_anime.drop(columns=df_anime.columns[2:], inplace=True)\n",
    "df_anime.info()"
   ]
  },
  {
   "cell_type": "code",
   "execution_count": 13,
   "metadata": {},
   "outputs": [],
   "source": [
    "# running out of mem, so delete the dataframe objects currently in RAM\n",
    "del df_anime_lists\n",
    "del df_anime"
   ]
  },
  {
   "cell_type": "code",
   "execution_count": 60,
   "metadata": {},
   "outputs": [
    {
     "data": {
      "text/html": [
       "<div>\n",
       "<style scoped>\n",
       "    .dataframe tbody tr th:only-of-type {\n",
       "        vertical-align: middle;\n",
       "    }\n",
       "\n",
       "    .dataframe tbody tr th {\n",
       "        vertical-align: top;\n",
       "    }\n",
       "\n",
       "    .dataframe thead th {\n",
       "        text-align: right;\n",
       "    }\n",
       "</style>\n",
       "<table border=\"1\" class=\"dataframe\">\n",
       "  <thead>\n",
       "    <tr style=\"text-align: right;\">\n",
       "      <th></th>\n",
       "      <th>support</th>\n",
       "      <th>itemsets</th>\n",
       "    </tr>\n",
       "  </thead>\n",
       "  <tbody>\n",
       "    <tr>\n",
       "      <th>0</th>\n",
       "      <td>0.295017</td>\n",
       "      <td>(Accel World)</td>\n",
       "    </tr>\n",
       "    <tr>\n",
       "      <th>1</th>\n",
       "      <td>0.279075</td>\n",
       "      <td>(Air)</td>\n",
       "    </tr>\n",
       "    <tr>\n",
       "      <th>2</th>\n",
       "      <td>0.344323</td>\n",
       "      <td>(Akame ga Kill!)</td>\n",
       "    </tr>\n",
       "    <tr>\n",
       "      <th>3</th>\n",
       "      <td>0.569962</td>\n",
       "      <td>(Angel Beats!)</td>\n",
       "    </tr>\n",
       "    <tr>\n",
       "      <th>4</th>\n",
       "      <td>0.429983</td>\n",
       "      <td>(Ano Hi Mita Hana no Namae wo Bokutachi wa Mad...</td>\n",
       "    </tr>\n",
       "    <tr>\n",
       "      <th>...</th>\n",
       "      <td>...</td>\n",
       "      <td>...</td>\n",
       "    </tr>\n",
       "    <tr>\n",
       "      <th>5447</th>\n",
       "      <td>0.263796</td>\n",
       "      <td>(Shingeki no Kyojin, Steins;Gate, Sword Art On...</td>\n",
       "    </tr>\n",
       "    <tr>\n",
       "      <th>5448</th>\n",
       "      <td>0.275221</td>\n",
       "      <td>(Shingeki no Kyojin, Death Note, Steins;Gate, ...</td>\n",
       "    </tr>\n",
       "    <tr>\n",
       "      <th>5449</th>\n",
       "      <td>0.271431</td>\n",
       "      <td>(Shingeki no Kyojin, Mirai Nikki (TV), Steins;...</td>\n",
       "    </tr>\n",
       "    <tr>\n",
       "      <th>5450</th>\n",
       "      <td>0.265912</td>\n",
       "      <td>(Shingeki no Kyojin, Mirai Nikki (TV), Steins;...</td>\n",
       "    </tr>\n",
       "    <tr>\n",
       "      <th>5451</th>\n",
       "      <td>0.261689</td>\n",
       "      <td>(Angel Beats!, Shingeki no Kyojin, Mirai Nikki...</td>\n",
       "    </tr>\n",
       "  </tbody>\n",
       "</table>\n",
       "<p>5452 rows × 2 columns</p>\n",
       "</div>"
      ],
      "text/plain": [
       "       support                                           itemsets\n",
       "0     0.295017                                      (Accel World)\n",
       "1     0.279075                                              (Air)\n",
       "2     0.344323                                   (Akame ga Kill!)\n",
       "3     0.569962                                     (Angel Beats!)\n",
       "4     0.429983  (Ano Hi Mita Hana no Namae wo Bokutachi wa Mad...\n",
       "...        ...                                                ...\n",
       "5447  0.263796  (Shingeki no Kyojin, Steins;Gate, Sword Art On...\n",
       "5448  0.275221  (Shingeki no Kyojin, Death Note, Steins;Gate, ...\n",
       "5449  0.271431  (Shingeki no Kyojin, Mirai Nikki (TV), Steins;...\n",
       "5450  0.265912  (Shingeki no Kyojin, Mirai Nikki (TV), Steins;...\n",
       "5451  0.261689  (Angel Beats!, Shingeki no Kyojin, Mirai Nikki...\n",
       "\n",
       "[5452 rows x 2 columns]"
      ]
     },
     "execution_count": 60,
     "metadata": {},
     "output_type": "execute_result"
    }
   ],
   "source": [
    "MIN_SUPPORT = 0.26\n",
    "\n",
    "te = TransactionEncoder()\n",
    "te_ary = te.fit(transactions).transform(transactions)\n",
    "df = pd.DataFrame(te_ary, columns=te.columns_)\n",
    "frequent_itemsets = apriori(df, min_support=MIN_SUPPORT, use_colnames=True)\n",
    "\n",
    "frequent_itemsets"
   ]
  },
  {
   "cell_type": "code",
   "execution_count": 66,
   "metadata": {},
   "outputs": [
    {
     "data": {
      "text/html": [
       "<div>\n",
       "<style scoped>\n",
       "    .dataframe tbody tr th:only-of-type {\n",
       "        vertical-align: middle;\n",
       "    }\n",
       "\n",
       "    .dataframe tbody tr th {\n",
       "        vertical-align: top;\n",
       "    }\n",
       "\n",
       "    .dataframe thead th {\n",
       "        text-align: right;\n",
       "    }\n",
       "</style>\n",
       "<table border=\"1\" class=\"dataframe\">\n",
       "  <thead>\n",
       "    <tr style=\"text-align: right;\">\n",
       "      <th></th>\n",
       "      <th>antecedents</th>\n",
       "      <th>consequents</th>\n",
       "      <th>antecedent support</th>\n",
       "      <th>consequent support</th>\n",
       "      <th>support</th>\n",
       "      <th>confidence</th>\n",
       "      <th>lift</th>\n",
       "      <th>leverage</th>\n",
       "      <th>conviction</th>\n",
       "      <th>zhangs_metric</th>\n",
       "    </tr>\n",
       "  </thead>\n",
       "  <tbody>\n",
       "    <tr>\n",
       "      <th>0</th>\n",
       "      <td>(Accel World)</td>\n",
       "      <td>(Sword Art Online)</td>\n",
       "      <td>0.295017</td>\n",
       "      <td>0.575003</td>\n",
       "      <td>0.276518</td>\n",
       "      <td>0.937295</td>\n",
       "      <td>1.630070</td>\n",
       "      <td>0.106882</td>\n",
       "      <td>6.777762</td>\n",
       "      <td>0.548282</td>\n",
       "    </tr>\n",
       "    <tr>\n",
       "      <th>1</th>\n",
       "      <td>(Akame ga Kill!)</td>\n",
       "      <td>(Angel Beats!)</td>\n",
       "      <td>0.344323</td>\n",
       "      <td>0.569962</td>\n",
       "      <td>0.289139</td>\n",
       "      <td>0.839732</td>\n",
       "      <td>1.473312</td>\n",
       "      <td>0.092888</td>\n",
       "      <td>2.683239</td>\n",
       "      <td>0.489962</td>\n",
       "    </tr>\n",
       "    <tr>\n",
       "      <th>2</th>\n",
       "      <td>(Angel Beats!)</td>\n",
       "      <td>(Akame ga Kill!)</td>\n",
       "      <td>0.569962</td>\n",
       "      <td>0.344323</td>\n",
       "      <td>0.289139</td>\n",
       "      <td>0.507295</td>\n",
       "      <td>1.473312</td>\n",
       "      <td>0.092888</td>\n",
       "      <td>1.330770</td>\n",
       "      <td>0.747043</td>\n",
       "    </tr>\n",
       "    <tr>\n",
       "      <th>3</th>\n",
       "      <td>(Akame ga Kill!)</td>\n",
       "      <td>(Code Geass: Hangyaku no Lelouch)</td>\n",
       "      <td>0.344323</td>\n",
       "      <td>0.622957</td>\n",
       "      <td>0.268975</td>\n",
       "      <td>0.781171</td>\n",
       "      <td>1.253973</td>\n",
       "      <td>0.054477</td>\n",
       "      <td>1.723002</td>\n",
       "      <td>0.308894</td>\n",
       "    </tr>\n",
       "    <tr>\n",
       "      <th>4</th>\n",
       "      <td>(Akame ga Kill!)</td>\n",
       "      <td>(Death Note)</td>\n",
       "      <td>0.344323</td>\n",
       "      <td>0.748153</td>\n",
       "      <td>0.297170</td>\n",
       "      <td>0.863055</td>\n",
       "      <td>1.153580</td>\n",
       "      <td>0.039563</td>\n",
       "      <td>1.839031</td>\n",
       "      <td>0.203047</td>\n",
       "    </tr>\n",
       "    <tr>\n",
       "      <th>...</th>\n",
       "      <td>...</td>\n",
       "      <td>...</td>\n",
       "      <td>...</td>\n",
       "      <td>...</td>\n",
       "      <td>...</td>\n",
       "      <td>...</td>\n",
       "      <td>...</td>\n",
       "      <td>...</td>\n",
       "      <td>...</td>\n",
       "      <td>...</td>\n",
       "    </tr>\n",
       "    <tr>\n",
       "      <th>33708</th>\n",
       "      <td>(Sword Art Online, Steins;Gate)</td>\n",
       "      <td>(Shingeki no Kyojin, Death Note, Angel Beats!,...</td>\n",
       "      <td>0.426754</td>\n",
       "      <td>0.315576</td>\n",
       "      <td>0.261689</td>\n",
       "      <td>0.613209</td>\n",
       "      <td>1.943140</td>\n",
       "      <td>0.127016</td>\n",
       "      <td>1.769493</td>\n",
       "      <td>0.846703</td>\n",
       "    </tr>\n",
       "    <tr>\n",
       "      <th>33709</th>\n",
       "      <td>(Death Note, Steins;Gate)</td>\n",
       "      <td>(Sword Art Online, Shingeki no Kyojin, Angel B...</td>\n",
       "      <td>0.449586</td>\n",
       "      <td>0.325235</td>\n",
       "      <td>0.261689</td>\n",
       "      <td>0.582068</td>\n",
       "      <td>1.789683</td>\n",
       "      <td>0.115468</td>\n",
       "      <td>1.614533</td>\n",
       "      <td>0.801654</td>\n",
       "    </tr>\n",
       "    <tr>\n",
       "      <th>33710</th>\n",
       "      <td>(Sword Art Online, Death Note)</td>\n",
       "      <td>(Shingeki no Kyojin, Steins;Gate, Angel Beats!...</td>\n",
       "      <td>0.476557</td>\n",
       "      <td>0.304979</td>\n",
       "      <td>0.261689</td>\n",
       "      <td>0.549126</td>\n",
       "      <td>1.800534</td>\n",
       "      <td>0.116350</td>\n",
       "      <td>1.541495</td>\n",
       "      <td>0.849393</td>\n",
       "    </tr>\n",
       "    <tr>\n",
       "      <th>33711</th>\n",
       "      <td>(Mirai Nikki (TV))</td>\n",
       "      <td>(Angel Beats!, Shingeki no Kyojin, Steins;Gate...</td>\n",
       "      <td>0.497309</td>\n",
       "      <td>0.295385</td>\n",
       "      <td>0.261689</td>\n",
       "      <td>0.526211</td>\n",
       "      <td>1.781440</td>\n",
       "      <td>0.114792</td>\n",
       "      <td>1.487191</td>\n",
       "      <td>0.872617</td>\n",
       "    </tr>\n",
       "    <tr>\n",
       "      <th>33712</th>\n",
       "      <td>(Steins;Gate)</td>\n",
       "      <td>(Angel Beats!, Shingeki no Kyojin, Mirai Nikki...</td>\n",
       "      <td>0.521236</td>\n",
       "      <td>0.293416</td>\n",
       "      <td>0.261689</td>\n",
       "      <td>0.502056</td>\n",
       "      <td>1.711070</td>\n",
       "      <td>0.108750</td>\n",
       "      <td>1.419002</td>\n",
       "      <td>0.868006</td>\n",
       "    </tr>\n",
       "  </tbody>\n",
       "</table>\n",
       "<p>33713 rows × 10 columns</p>\n",
       "</div>"
      ],
      "text/plain": [
       "                           antecedents  \\\n",
       "0                        (Accel World)   \n",
       "1                     (Akame ga Kill!)   \n",
       "2                       (Angel Beats!)   \n",
       "3                     (Akame ga Kill!)   \n",
       "4                     (Akame ga Kill!)   \n",
       "...                                ...   \n",
       "33708  (Sword Art Online, Steins;Gate)   \n",
       "33709        (Death Note, Steins;Gate)   \n",
       "33710   (Sword Art Online, Death Note)   \n",
       "33711               (Mirai Nikki (TV))   \n",
       "33712                    (Steins;Gate)   \n",
       "\n",
       "                                             consequents  antecedent support  \\\n",
       "0                                     (Sword Art Online)            0.295017   \n",
       "1                                         (Angel Beats!)            0.344323   \n",
       "2                                       (Akame ga Kill!)            0.569962   \n",
       "3                      (Code Geass: Hangyaku no Lelouch)            0.344323   \n",
       "4                                           (Death Note)            0.344323   \n",
       "...                                                  ...                 ...   \n",
       "33708  (Shingeki no Kyojin, Death Note, Angel Beats!,...            0.426754   \n",
       "33709  (Sword Art Online, Shingeki no Kyojin, Angel B...            0.449586   \n",
       "33710  (Shingeki no Kyojin, Steins;Gate, Angel Beats!...            0.476557   \n",
       "33711  (Angel Beats!, Shingeki no Kyojin, Steins;Gate...            0.497309   \n",
       "33712  (Angel Beats!, Shingeki no Kyojin, Mirai Nikki...            0.521236   \n",
       "\n",
       "       consequent support   support  confidence      lift  leverage  \\\n",
       "0                0.575003  0.276518    0.937295  1.630070  0.106882   \n",
       "1                0.569962  0.289139    0.839732  1.473312  0.092888   \n",
       "2                0.344323  0.289139    0.507295  1.473312  0.092888   \n",
       "3                0.622957  0.268975    0.781171  1.253973  0.054477   \n",
       "4                0.748153  0.297170    0.863055  1.153580  0.039563   \n",
       "...                   ...       ...         ...       ...       ...   \n",
       "33708            0.315576  0.261689    0.613209  1.943140  0.127016   \n",
       "33709            0.325235  0.261689    0.582068  1.789683  0.115468   \n",
       "33710            0.304979  0.261689    0.549126  1.800534  0.116350   \n",
       "33711            0.295385  0.261689    0.526211  1.781440  0.114792   \n",
       "33712            0.293416  0.261689    0.502056  1.711070  0.108750   \n",
       "\n",
       "       conviction  zhangs_metric  \n",
       "0        6.777762       0.548282  \n",
       "1        2.683239       0.489962  \n",
       "2        1.330770       0.747043  \n",
       "3        1.723002       0.308894  \n",
       "4        1.839031       0.203047  \n",
       "...           ...            ...  \n",
       "33708    1.769493       0.846703  \n",
       "33709    1.614533       0.801654  \n",
       "33710    1.541495       0.849393  \n",
       "33711    1.487191       0.872617  \n",
       "33712    1.419002       0.868006  \n",
       "\n",
       "[33713 rows x 10 columns]"
      ]
     },
     "execution_count": 66,
     "metadata": {},
     "output_type": "execute_result"
    }
   ],
   "source": [
    "MIN_CONFIDENCE = 0.5\n",
    "rules = association_rules(frequent_itemsets, metric='confidence', min_threshold=MIN_CONFIDENCE)\n",
    "rules"
   ]
  },
  {
   "cell_type": "code",
   "execution_count": 16,
   "metadata": {},
   "outputs": [],
   "source": [
    "def viewTopKRules(rules : pd.DataFrame, metric : str | list[str], k : int, ascending : bool = False) -> pd.DataFrame:\n",
    "    '''\n",
    "    return a subset of the rules dataframe \n",
    "    given the metric / metrics to sort by\n",
    "    top k to return\n",
    "    and whether to be sorted in ascending or descending order\n",
    "    '''\n",
    "    return rules.sort_values(by=metric, ascending=ascending).head(k)"
   ]
  },
  {
   "cell_type": "code",
   "execution_count": 17,
   "metadata": {},
   "outputs": [
    {
     "data": {
      "text/html": [
       "<div>\n",
       "<style scoped>\n",
       "    .dataframe tbody tr th:only-of-type {\n",
       "        vertical-align: middle;\n",
       "    }\n",
       "\n",
       "    .dataframe tbody tr th {\n",
       "        vertical-align: top;\n",
       "    }\n",
       "\n",
       "    .dataframe thead th {\n",
       "        text-align: right;\n",
       "    }\n",
       "</style>\n",
       "<table border=\"1\" class=\"dataframe\">\n",
       "  <thead>\n",
       "    <tr style=\"text-align: right;\">\n",
       "      <th></th>\n",
       "      <th>antecedents</th>\n",
       "      <th>consequents</th>\n",
       "      <th>antecedent support</th>\n",
       "      <th>consequent support</th>\n",
       "      <th>support</th>\n",
       "      <th>confidence</th>\n",
       "      <th>lift</th>\n",
       "      <th>leverage</th>\n",
       "      <th>conviction</th>\n",
       "      <th>zhangs_metric</th>\n",
       "    </tr>\n",
       "  </thead>\n",
       "  <tbody>\n",
       "    <tr>\n",
       "      <th>6044</th>\n",
       "      <td>(Shingeki no Kyojin, Sword Art Online II)</td>\n",
       "      <td>(Sword Art Online)</td>\n",
       "      <td>0.324159</td>\n",
       "      <td>0.575003</td>\n",
       "      <td>0.322770</td>\n",
       "      <td>0.995715</td>\n",
       "      <td>1.731669</td>\n",
       "      <td>0.136378</td>\n",
       "      <td>99.181918</td>\n",
       "      <td>0.625180</td>\n",
       "    </tr>\n",
       "    <tr>\n",
       "      <th>2328</th>\n",
       "      <td>(Sword Art Online II, Angel Beats!)</td>\n",
       "      <td>(Sword Art Online)</td>\n",
       "      <td>0.297565</td>\n",
       "      <td>0.575003</td>\n",
       "      <td>0.296268</td>\n",
       "      <td>0.995641</td>\n",
       "      <td>1.731541</td>\n",
       "      <td>0.125167</td>\n",
       "      <td>97.502151</td>\n",
       "      <td>0.601450</td>\n",
       "    </tr>\n",
       "    <tr>\n",
       "      <th>5134</th>\n",
       "      <td>(Death Note, Sword Art Online II)</td>\n",
       "      <td>(Sword Art Online)</td>\n",
       "      <td>0.304860</td>\n",
       "      <td>0.575003</td>\n",
       "      <td>0.303425</td>\n",
       "      <td>0.995293</td>\n",
       "      <td>1.730935</td>\n",
       "      <td>0.128129</td>\n",
       "      <td>90.287346</td>\n",
       "      <td>0.607471</td>\n",
       "    </tr>\n",
       "    <tr>\n",
       "      <th>5924</th>\n",
       "      <td>(No Game No Life, Sword Art Online II)</td>\n",
       "      <td>(Sword Art Online)</td>\n",
       "      <td>0.296314</td>\n",
       "      <td>0.575003</td>\n",
       "      <td>0.294861</td>\n",
       "      <td>0.995095</td>\n",
       "      <td>1.730591</td>\n",
       "      <td>0.124479</td>\n",
       "      <td>86.645593</td>\n",
       "      <td>0.599931</td>\n",
       "    </tr>\n",
       "    <tr>\n",
       "      <th>7670</th>\n",
       "      <td>(Tengen Toppa Gurren Lagann, Code Geass: Hangy...</td>\n",
       "      <td>(Code Geass: Hangyaku no Lelouch)</td>\n",
       "      <td>0.293987</td>\n",
       "      <td>0.622957</td>\n",
       "      <td>0.292165</td>\n",
       "      <td>0.993805</td>\n",
       "      <td>1.595303</td>\n",
       "      <td>0.109024</td>\n",
       "      <td>60.858216</td>\n",
       "      <td>0.528545</td>\n",
       "    </tr>\n",
       "  </tbody>\n",
       "</table>\n",
       "</div>"
      ],
      "text/plain": [
       "                                            antecedents  \\\n",
       "6044          (Shingeki no Kyojin, Sword Art Online II)   \n",
       "2328                (Sword Art Online II, Angel Beats!)   \n",
       "5134                  (Death Note, Sword Art Online II)   \n",
       "5924             (No Game No Life, Sword Art Online II)   \n",
       "7670  (Tengen Toppa Gurren Lagann, Code Geass: Hangy...   \n",
       "\n",
       "                            consequents  antecedent support  \\\n",
       "6044                 (Sword Art Online)            0.324159   \n",
       "2328                 (Sword Art Online)            0.297565   \n",
       "5134                 (Sword Art Online)            0.304860   \n",
       "5924                 (Sword Art Online)            0.296314   \n",
       "7670  (Code Geass: Hangyaku no Lelouch)            0.293987   \n",
       "\n",
       "      consequent support   support  confidence      lift  leverage  \\\n",
       "6044            0.575003  0.322770    0.995715  1.731669  0.136378   \n",
       "2328            0.575003  0.296268    0.995641  1.731541  0.125167   \n",
       "5134            0.575003  0.303425    0.995293  1.730935  0.128129   \n",
       "5924            0.575003  0.294861    0.995095  1.730591  0.124479   \n",
       "7670            0.622957  0.292165    0.993805  1.595303  0.109024   \n",
       "\n",
       "      conviction  zhangs_metric  \n",
       "6044   99.181918       0.625180  \n",
       "2328   97.502151       0.601450  \n",
       "5134   90.287346       0.607471  \n",
       "5924   86.645593       0.599931  \n",
       "7670   60.858216       0.528545  "
      ]
     },
     "execution_count": 17,
     "metadata": {},
     "output_type": "execute_result"
    }
   ],
   "source": [
    "viewTopKRules(rules, metric=['confidence', 'lift'], k=5)"
   ]
  },
  {
   "cell_type": "markdown",
   "metadata": {},
   "source": [
    "### Create recommendations from association rules. Start with a simple search."
   ]
  },
  {
   "cell_type": "code",
   "execution_count": 18,
   "metadata": {},
   "outputs": [],
   "source": [
    "def recommendAnimeSimple( userList : list[str] ) -> list[str]:\n",
    "    '''\n",
    "    Given a list of anime the user watches, return a list of anime recommendations.\n",
    "\n",
    "    Returns all the anime from the consequents of association rules that contain any one of the anime in the userlist.\n",
    "    Only considers subsets of the userList of length 1 to match for antecedents.\n",
    "\n",
    "    Output data format:\n",
    "        (anime_recommendation, score)\n",
    "            score - integer value noting how far away from the top rule this rec came from (lower is better)\n",
    "    '''\n",
    "    assert isinstance(userList, list), 'input not of type list'\n",
    "    \n",
    "    retList = []\n",
    "    retAnime = set()\n",
    "    # try to use as much of the anime in the user list as possible until\n",
    "    # for now, loop over each anime in the user's list and add to our set of recommendations\n",
    "    # the anime in the consequents of the top rule containing a user liked anime in the antecedents\n",
    "    for anime in userList:\n",
    "        score = 0 # lower the better\n",
    "        for index, row in rules.sort_values(by=['confidence', 'lift'], ascending=False).iterrows():\n",
    "            if anime in list(row.antecedents):\n",
    "                consequents = list(row.consequents)\n",
    "                for a in consequents:\n",
    "                    if a in retAnime: continue\n",
    "                    retAnime.add(a)\n",
    "                    retList.append((a, score))\n",
    "            score += 1 # increment, the higher the score, the further away from the top rules the anime rec comes from\n",
    "\n",
    "    # sort return list of anime by ascending score\n",
    "    retList = sorted(retList, key=lambda x : x[1])\n",
    "    \n",
    "    return retList"
   ]
  },
  {
   "cell_type": "code",
   "execution_count": 19,
   "metadata": {
    "scrolled": true
   },
   "outputs": [
    {
     "data": {
      "text/plain": [
       "[('Code Geass: Hangyaku no Lelouch', 53),\n",
       " ('Naruto', 95),\n",
       " ('Death Note', 108),\n",
       " ('Shingeki no Kyojin', 699),\n",
       " ('Sword Art Online', 945),\n",
       " ('Bleach', 1360),\n",
       " ('Naruto: Shippuuden', 1542),\n",
       " ('Code Geass: Hangyaku no Lelouch R2', 1554),\n",
       " ('Clannad: After Story', 1578),\n",
       " ('Fullmetal Alchemist: Brotherhood', 1886),\n",
       " ('Angel Beats!', 2350),\n",
       " ('Steins;Gate', 2713),\n",
       " ('Elfen Lied', 2856),\n",
       " ('Fullmetal Alchemist', 3054),\n",
       " ('Ano Hi Mita Hana no Namae wo Bokutachi wa Mada Shiranai.', 3124),\n",
       " ('Soul Eater', 3666),\n",
       " ('No Game No Life', 3843),\n",
       " ('Toradora!', 4074),\n",
       " ('Tengen Toppa Gurren Lagann', 4325),\n",
       " ('K-On!', 5053),\n",
       " ('Mahou Shoujo Madoka★Magica', 5203),\n",
       " ('Fairy Tail', 5386),\n",
       " ('Durarara!!', 5785),\n",
       " ('Clannad', 5796),\n",
       " ('One Piece', 6392),\n",
       " ('Suzumiya Haruhi no Yuuutsu', 6403),\n",
       " ('Mirai Nikki (TV)', 6579),\n",
       " ('Highschool of the Dead', 6584),\n",
       " ('Ao no Exorcist', 6665),\n",
       " ('Sen to Chihiro no Kamikakushi', 6680),\n",
       " ('Bakemonogatari', 6851),\n",
       " ('Kaichou wa Maid-sama!', 7648),\n",
       " ('Higurashi no Naku Koro ni', 7650),\n",
       " ('Zero no Tsukaima', 7704),\n",
       " ('Byousoku 5 Centimeter', 7822),\n",
       " ('Hyouka', 7924),\n",
       " ('Guilty Crown', 7925),\n",
       " ('Chuunibyou demo Koi ga Shitai!', 7927),\n",
       " ('Darker than Black: Kuro no Keiyakusha', 7945),\n",
       " ('Noragami', 7952),\n",
       " ('Ore no Imouto ga Konnani Kawaii Wake ga Nai', 7978),\n",
       " ('Ookami to Koushinryou', 7979),\n",
       " ('Psycho-Pass', 7990),\n",
       " ('Tokyo Ghoul', 8111),\n",
       " ('Ouran Koukou Host Club', 8178),\n",
       " ('Shakugan no Shana', 8207),\n",
       " ('Neon Genesis Evangelion', 8222),\n",
       " ('Hataraku Maou-sama!', 8233),\n",
       " ('Kimi ni Todoke', 8284),\n",
       " ('Cowboy Bebop', 8392),\n",
       " ('One Punch Man', 8424),\n",
       " ('Toaru Majutsu no Index', 8454),\n",
       " ('Lucky☆Star', 8487),\n",
       " ('Fate/Zero', 8488),\n",
       " ('Deadman Wonderland', 8586),\n",
       " ('Fate/stay night', 8589),\n",
       " ('Sakurasou no Pet na Kanojo', 8611),\n",
       " ('Kill la Kill', 8620),\n",
       " ('Another', 8855),\n",
       " ('Baccano!', 8872),\n",
       " ('Tonari no Kaibutsu-kun', 8916),\n",
       " ('NHK ni Youkoso!', 8920)]"
      ]
     },
     "execution_count": 19,
     "metadata": {},
     "output_type": "execute_result"
    }
   ],
   "source": [
    "recommendAnimeSimple(['Naruto', \"Toradora!\"])"
   ]
  },
  {
   "cell_type": "markdown",
   "metadata": {},
   "source": [
    "### Create a better recommendAnime function.\n",
    "The simple version above checks each individual anime in the user input list, one by one, and finds the top rule that contains the anime in its antecedents and adds to the recommendation list the anime in the consequents. This is clearly ignoring the information in having the anime found in a set TOGETHER. So we need to figure out how to match and find the best subset of antecedent and return just that rule's consequent, to make the recommendations more meaningful. "
   ]
  },
  {
   "cell_type": "code",
   "execution_count": 20,
   "metadata": {},
   "outputs": [],
   "source": [
    "from itertools import chain, combinations\n",
    "\n",
    "def powerset(iterable):\n",
    "    \"powerset([1,2,3]) --> () (1,) (2,) (3,) (1,2) (1,3) (2,3) (1,2,3)\"\n",
    "    s = list(iterable)\n",
    "    return chain.from_iterable(combinations(s, r) for r in range(len(s)+1))"
   ]
  },
  {
   "cell_type": "code",
   "execution_count": 21,
   "metadata": {},
   "outputs": [
    {
     "data": {
      "text/plain": [
       "[(), ('Naruto',), ('Toradora!',), ('Naruto', 'Toradora!')]"
      ]
     },
     "execution_count": 21,
     "metadata": {},
     "output_type": "execute_result"
    }
   ],
   "source": [
    "[x for x in powerset(['Naruto', 'Toradora!'])]"
   ]
  },
  {
   "cell_type": "code",
   "execution_count": 22,
   "metadata": {},
   "outputs": [
    {
     "data": {
      "text/plain": [
       "[frozenset({'Naruto', 'Shingeki no Kyojin', 'Toradora!'}),\n",
       " frozenset({'Naruto', 'Toradora!'}),\n",
       " frozenset({'Naruto', 'Shingeki no Kyojin'}),\n",
       " frozenset({'Shingeki no Kyojin', 'Toradora!'}),\n",
       " frozenset({'Naruto'}),\n",
       " frozenset({'Toradora!'}),\n",
       " frozenset({'Shingeki no Kyojin'})]"
      ]
     },
     "execution_count": 22,
     "metadata": {},
     "output_type": "execute_result"
    }
   ],
   "source": [
    "tmp = ['Naruto', 'Toradora!', 'Shingeki no Kyojin']\n",
    "tmp = [x for x in powerset(tmp)]\n",
    "tmp = list(filter(lambda x : True if len(x) >= 1 else False, tmp))\n",
    "tmp = sorted(tmp, key=lambda x: len(x), reverse=True)\n",
    "tmp = [frozenset(x) for x in tmp]\n",
    "tmp"
   ]
  },
  {
   "cell_type": "code",
   "execution_count": 23,
   "metadata": {},
   "outputs": [
    {
     "data": {
      "text/plain": [
       "True"
      ]
     },
     "execution_count": 23,
     "metadata": {},
     "output_type": "execute_result"
    }
   ],
   "source": [
    "# great, the order doesn't matter in the frozenset comparison.\n",
    "frozenset({'Naruto', 'Toradora!'}) == frozenset({'Toradora!', 'Naruto'})"
   ]
  },
  {
   "cell_type": "code",
   "execution_count": 40,
   "metadata": {},
   "outputs": [],
   "source": [
    "def recommendAnimeBetter( userList : list[str] , short : bool = False) -> list[str]:\n",
    "    '''\n",
    "    Given a list of anime the user watches, return a list of anime recommendations.\n",
    "\n",
    "    This is the better version that tries to match as much of animes in the original list.\n",
    "    Then we start to add more recommendations by using rules that match fewer and fewer until we are matching rules from singleton animes from userList.\n",
    "\n",
    "    Input data:\n",
    "        userList - list of user anime to make predictions off of.\n",
    "        short - boolean to toggle whether to return a short list of recommended anime or not. the short version \n",
    "            is just the consequent anime(s) in the first association rule whose antecedent matches with\n",
    "            the longest subset in userList.\n",
    "\n",
    "    Return data format:\n",
    "        (anime_recommendation, score1, score2)\n",
    "            score1 - this is the number of animes used to match the rule for this rec (higher is better)\n",
    "            score2 - this is how far away from the strongest/top rule this rec was found at (lower is better)\n",
    "    \n",
    "    '''\n",
    "    assert isinstance(userList, list), 'input not of type list'\n",
    "    \n",
    "    retList = []\n",
    "    retAnime = set()\n",
    "\n",
    "    # create all subsets with at least 1 anime\n",
    "    tmp = [x for x in powerset(userList)]\n",
    "    tmp = list(filter(lambda x : True if len(x) >= 1 else False, tmp))\n",
    "    tmp = sorted(tmp, key=lambda x: len(x), reverse=True)\n",
    "    tmp = [frozenset(x) for x in tmp]\n",
    "\n",
    "    for subset in tmp:\n",
    "        score2 = 0\n",
    "        for index, row in rules.sort_values(by=['confidence', 'lift'], ascending=False).iterrows():\n",
    "            if subset == row.antecedents:\n",
    "                consequents = list(row.consequents)\n",
    "                for a in consequents:\n",
    "\n",
    "                    # don't add this anime if we already got it\n",
    "                    if a in retAnime: continue\n",
    "\n",
    "                    retAnime.add(a)\n",
    "\n",
    "                    score1 = len(subset)\n",
    "                    retList.append((a, score1, score2))\n",
    "\n",
    "                # only capture one consequent(s) if short is True\n",
    "                if short:\n",
    "                    break\n",
    "\n",
    "            score2 += 1\n",
    "    \n",
    "    # sort return list of anime by descending number of anime from \n",
    "    retList = sorted(retList, key=lambda x : x[1], reverse=True)\n",
    "    \n",
    "    return retList"
   ]
  },
  {
   "cell_type": "code",
   "execution_count": 67,
   "metadata": {
    "scrolled": true
   },
   "outputs": [
    {
     "data": {
      "text/plain": [
       "[('Death Note', 2, 2774),\n",
       " ('Code Geass: Hangyaku no Lelouch', 2, 8640),\n",
       " ('Naruto: Shippuuden', 2, 9880),\n",
       " ('Fullmetal Alchemist: Brotherhood', 2, 10111),\n",
       " ('Angel Beats!', 2, 10486),\n",
       " ('Bleach', 2, 10991),\n",
       " ('Clannad', 2, 11446),\n",
       " ('Sword Art Online', 2, 11773),\n",
       " ('Shingeki no Kyojin', 2, 12910),\n",
       " ('Elfen Lied', 2, 12922),\n",
       " ('Durarara!!', 2, 14836),\n",
       " ('Soul Eater', 2, 14951),\n",
       " ('Bakemonogatari', 2, 15679),\n",
       " ('Steins;Gate', 2, 16403),\n",
       " ('Suzumiya Haruhi no Yuuutsu', 2, 16528),\n",
       " ('Tengen Toppa Gurren Lagann', 2, 17482),\n",
       " ('Mirai Nikki (TV)', 2, 12158),\n",
       " ('Toradora!', 2, 13958),\n",
       " ('Ao no Exorcist', 2, 14595),\n",
       " ('Fairy Tail', 2, 15433),\n",
       " ('Tokyo Ghoul', 2, 17109),\n",
       " ('Highschool of the Dead', 2, 17700),\n",
       " ('Ano Hi Mita Hana no Namae wo Bokutachi wa Mada Shiranai.', 2, 14927),\n",
       " ('Another', 2, 15101),\n",
       " ('No Game No Life', 2, 15168),\n",
       " ('Noragami', 2, 17728),\n",
       " ('Psycho-Pass', 2, 18017),\n",
       " ('Naruto', 2, 19293),\n",
       " ('One Punch Man', 2, 19727),\n",
       " ('Hataraku Maou-sama!', 2, 19980),\n",
       " ('Code Geass: Hangyaku no Lelouch R2', 2, 20159),\n",
       " ('Mahou Shoujo Madoka★Magica', 2, 20256),\n",
       " ('Chuunibyou demo Koi ga Shitai!', 2, 20501),\n",
       " ('Kill la Kill', 2, 20571),\n",
       " ('Guilty Crown', 2, 20690),\n",
       " ('Hyouka', 2, 20850),\n",
       " ('Clannad: After Story', 2, 21638),\n",
       " ('Fate/Zero', 2, 22615),\n",
       " ('Sakurasou no Pet na Kanojo', 2, 23143),\n",
       " ('Sen to Chihiro no Kamikakushi', 2, 23148),\n",
       " ('Fullmetal Alchemist', 1, 20377),\n",
       " ('One Piece', 1, 27442),\n",
       " ('Darker than Black: Kuro no Keiyakusha', 1, 30384),\n",
       " ('Neon Genesis Evangelion', 1, 31488),\n",
       " ('Cowboy Bebop', 1, 32049),\n",
       " ('Fate/stay night', 1, 32605),\n",
       " ('K-On!', 1, 25107),\n",
       " ('Kaichou wa Maid-sama!', 1, 29139),\n",
       " ('Higurashi no Naku Koro ni', 1, 29153),\n",
       " ('Zero no Tsukaima', 1, 29430),\n",
       " ('Byousoku 5 Centimeter', 1, 29868),\n",
       " ('Ore no Imouto ga Konnani Kawaii Wake ga Nai', 1, 30528),\n",
       " ('Ookami to Koushinryou', 1, 30532),\n",
       " ('Ouran Koukou Host Club', 1, 31329),\n",
       " ('Shakugan no Shana', 1, 31427),\n",
       " ('Kimi ni Todoke', 1, 31712),\n",
       " ('Toaru Majutsu no Index', 1, 32246),\n",
       " ('Lucky☆Star', 1, 32333),\n",
       " ('Deadman Wonderland', 1, 32598),\n",
       " ('Baccano!', 1, 33489),\n",
       " ('Tonari no Kaibutsu-kun', 1, 33646),\n",
       " ('NHK ni Youkoso!', 1, 33665),\n",
       " ('Sword Art Online II', 1, 28259),\n",
       " ('Akame ga Kill!', 1, 29205),\n",
       " ('Kiseijuu: Sei no Kakuritsu', 1, 30358),\n",
       " ('Boku dake ga Inai Machi', 1, 30624),\n",
       " ('Shigatsu wa Kimi no Uso', 1, 30758),\n",
       " ('Kyoukai no Kanata', 1, 32198),\n",
       " ('Death Parade', 1, 32285),\n",
       " ('Yahari Ore no Seishun Love Comedy wa Machigatteiru.', 1, 32579),\n",
       " ('Shingeki no Kyojin Season 2', 1, 33536)]"
      ]
     },
     "execution_count": 67,
     "metadata": {},
     "output_type": "execute_result"
    }
   ],
   "source": [
    "recommendAnimeBetter(['Naruto', 'Toradora!', 'Shingeki no Kyojin'])"
   ]
  },
  {
   "cell_type": "markdown",
   "metadata": {},
   "source": [
    "### Save Rules to Disk\n",
    "It is time consuming to have to recompute the association rules every time we want to make predictions with them. Therefore, we can save the rules using `pickle`."
   ]
  },
  {
   "cell_type": "code",
   "execution_count": 26,
   "metadata": {},
   "outputs": [],
   "source": [
    "import pickle"
   ]
  },
  {
   "cell_type": "code",
   "execution_count": 68,
   "metadata": {},
   "outputs": [],
   "source": [
    "with open(f'rules_minsup_{MIN_SUPPORT}_conf_{MIN_CONFIDENCE}.pkl', 'wb') as f:\n",
    "    pickle.dump(rules, f)"
   ]
  },
  {
   "cell_type": "code",
   "execution_count": 69,
   "metadata": {},
   "outputs": [],
   "source": [
    "del rules"
   ]
  },
  {
   "cell_type": "code",
   "execution_count": 70,
   "metadata": {},
   "outputs": [
    {
     "name": "stdout",
     "output_type": "stream",
     "text": [
      "[('Death Note', 2, 2774), ('Code Geass: Hangyaku no Lelouch', 2, 8640), ('Naruto: Shippuuden', 2, 9880), ('Fullmetal Alchemist: Brotherhood', 2, 10111), ('Angel Beats!', 2, 10486), ('Bleach', 2, 10991), ('Clannad', 2, 11446), ('Sword Art Online', 2, 11773), ('Shingeki no Kyojin', 2, 12910), ('Elfen Lied', 2, 12922), ('Durarara!!', 2, 14836), ('Soul Eater', 2, 14951), ('Bakemonogatari', 2, 15679), ('Steins;Gate', 2, 16403), ('Suzumiya Haruhi no Yuuutsu', 2, 16528), ('Tengen Toppa Gurren Lagann', 2, 17482), ('Mirai Nikki (TV)', 2, 12158), ('Toradora!', 2, 13958), ('Ao no Exorcist', 2, 14595), ('Fairy Tail', 2, 15433), ('Tokyo Ghoul', 2, 17109), ('Highschool of the Dead', 2, 17700), ('Ano Hi Mita Hana no Namae wo Bokutachi wa Mada Shiranai.', 2, 14927), ('Another', 2, 15101), ('No Game No Life', 2, 15168), ('Noragami', 2, 17728), ('Psycho-Pass', 2, 18017), ('Naruto', 2, 19293), ('One Punch Man', 2, 19727), ('Hataraku Maou-sama!', 2, 19980), ('Code Geass: Hangyaku no Lelouch R2', 2, 20159), ('Mahou Shoujo Madoka★Magica', 2, 20256), ('Chuunibyou demo Koi ga Shitai!', 2, 20501), ('Kill la Kill', 2, 20571), ('Guilty Crown', 2, 20690), ('Hyouka', 2, 20850), ('Clannad: After Story', 2, 21638), ('Fate/Zero', 2, 22615), ('Sakurasou no Pet na Kanojo', 2, 23143), ('Sen to Chihiro no Kamikakushi', 2, 23148), ('Fullmetal Alchemist', 1, 20377), ('One Piece', 1, 27442), ('Darker than Black: Kuro no Keiyakusha', 1, 30384), ('Neon Genesis Evangelion', 1, 31488), ('Cowboy Bebop', 1, 32049), ('Fate/stay night', 1, 32605), ('K-On!', 1, 25107), ('Kaichou wa Maid-sama!', 1, 29139), ('Higurashi no Naku Koro ni', 1, 29153), ('Zero no Tsukaima', 1, 29430), ('Byousoku 5 Centimeter', 1, 29868), ('Ore no Imouto ga Konnani Kawaii Wake ga Nai', 1, 30528), ('Ookami to Koushinryou', 1, 30532), ('Ouran Koukou Host Club', 1, 31329), ('Shakugan no Shana', 1, 31427), ('Kimi ni Todoke', 1, 31712), ('Toaru Majutsu no Index', 1, 32246), ('Lucky☆Star', 1, 32333), ('Deadman Wonderland', 1, 32598), ('Baccano!', 1, 33489), ('Tonari no Kaibutsu-kun', 1, 33646), ('NHK ni Youkoso!', 1, 33665), ('Sword Art Online II', 1, 28259), ('Akame ga Kill!', 1, 29205), ('Kiseijuu: Sei no Kakuritsu', 1, 30358), ('Boku dake ga Inai Machi', 1, 30624), ('Shigatsu wa Kimi no Uso', 1, 30758), ('Kyoukai no Kanata', 1, 32198), ('Death Parade', 1, 32285), ('Yahari Ore no Seishun Love Comedy wa Machigatteiru.', 1, 32579), ('Shingeki no Kyojin Season 2', 1, 33536)]\n"
     ]
    }
   ],
   "source": [
    "with open(f'rules_minsup_{MIN_SUPPORT}_conf_{MIN_CONFIDENCE}.pkl', 'rb') as f:\n",
    "    rules = pickle.load(f)\n",
    "    print(recommendAnimeBetter(['Naruto', 'Toradora!', 'Shingeki no Kyojin'], short=False))"
   ]
  },
  {
   "cell_type": "code",
   "execution_count": null,
   "metadata": {},
   "outputs": [],
   "source": []
  }
 ],
 "metadata": {
  "kernelspec": {
   "display_name": "Python 3 (ipykernel)",
   "language": "python",
   "name": "python3"
  },
  "language_info": {
   "codemirror_mode": {
    "name": "ipython",
    "version": 3
   },
   "file_extension": ".py",
   "mimetype": "text/x-python",
   "name": "python",
   "nbconvert_exporter": "python",
   "pygments_lexer": "ipython3",
   "version": "3.10.14"
  }
 },
 "nbformat": 4,
 "nbformat_minor": 4
}
