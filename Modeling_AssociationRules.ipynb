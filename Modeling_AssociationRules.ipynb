{
 "cells": [
  {
   "cell_type": "markdown",
   "metadata": {},
   "source": [
    "## Modeling_AssociationRules.ipynb\n",
    "### Due: April 23\n",
    "\n",
    "Here we explore the usage of Association Rule Mining with our anime watchlists.\n",
    "Each transaction will be the set of anime watched by a user. We will make use of the Apriori Algorithm\n",
    "to generate the frequent itemsets from the transactions and find the strongest association rules to be used as predictors\n",
    "of what anime a person might like to watch given other anime they have enjoyed."
   ]
  },
  {
   "cell_type": "code",
   "execution_count": 1,
   "metadata": {},
   "outputs": [
    {
     "name": "stderr",
     "output_type": "stream",
     "text": [
      "/tmp/ipykernel_275027/4080736814.py:1: DeprecationWarning: \n",
      "Pyarrow will become a required dependency of pandas in the next major release of pandas (pandas 3.0),\n",
      "(to allow more performant data types, such as the Arrow string type, and better interoperability with other libraries)\n",
      "but was not found to be installed on your system.\n",
      "If this would cause problems for you,\n",
      "please provide us feedback at https://github.com/pandas-dev/pandas/issues/54466\n",
      "        \n",
      "  import pandas as pd\n"
     ]
    }
   ],
   "source": [
    "import pandas as pd"
   ]
  },
  {
   "cell_type": "markdown",
   "metadata": {},
   "source": [
    "### Load in Dataset and Do some Data Preprocessing"
   ]
  },
  {
   "cell_type": "code",
   "execution_count": 2,
   "metadata": {},
   "outputs": [
    {
     "name": "stdout",
     "output_type": "stream",
     "text": [
      "<class 'pandas.core.frame.DataFrame'>\n",
      "RangeIndex: 31284030 entries, 0 to 31284029\n",
      "Data columns (total 11 columns):\n",
      " #   Column               Dtype  \n",
      "---  ------               -----  \n",
      " 0   username             object \n",
      " 1   anime_id             int64  \n",
      " 2   my_watched_episodes  int64  \n",
      " 3   my_start_date        object \n",
      " 4   my_finish_date       object \n",
      " 5   my_score             int64  \n",
      " 6   my_status            int64  \n",
      " 7   my_rewatching        float64\n",
      " 8   my_rewatching_ep     int64  \n",
      " 9   my_last_updated      object \n",
      " 10  my_tags              object \n",
      "dtypes: float64(1), int64(5), object(5)\n",
      "memory usage: 2.6+ GB\n"
     ]
    }
   ],
   "source": [
    "df_anime_lists = pd.read_csv(\"./data/animelists_cleaned.csv\")\n",
    "df_anime_lists.info()"
   ]
  },
  {
   "cell_type": "code",
   "execution_count": 3,
   "metadata": {},
   "outputs": [],
   "source": [
    "def getMemUsageInMB(df : pd.DataFrame) -> float:\n",
    "    return df.memory_usage(deep=True).sum() / 2**20"
   ]
  },
  {
   "cell_type": "code",
   "execution_count": 4,
   "metadata": {},
   "outputs": [
    {
     "name": "stdout",
     "output_type": "stream",
     "text": [
      "Total memory used by dataframe: 10738.10 MB\n"
     ]
    }
   ],
   "source": [
    "orig_mem = getMemUsageInMB(df_anime_lists)\n",
    "print(f\"Total memory used by dataframe: {orig_mem :.2f} MB\")"
   ]
  },
  {
   "cell_type": "code",
   "execution_count": 5,
   "metadata": {},
   "outputs": [
    {
     "data": {
      "text/plain": [
       "username               0.000008\n",
       "anime_id               0.000000\n",
       "my_watched_episodes    0.000000\n",
       "my_start_date          0.000000\n",
       "my_finish_date         0.000000\n",
       "my_score               0.000000\n",
       "my_status              0.000000\n",
       "my_rewatching          0.219864\n",
       "my_rewatching_ep       0.000000\n",
       "my_last_updated        0.000000\n",
       "my_tags                0.936274\n",
       "dtype: float64"
      ]
     },
     "execution_count": 5,
     "metadata": {},
     "output_type": "execute_result"
    }
   ],
   "source": [
    "# percentage of NaN values in each column\n",
    "df_anime_lists.isna().sum() / (df_anime_lists.isna().sum() + df_anime_lists.count())"
   ]
  },
  {
   "cell_type": "code",
   "execution_count": 6,
   "metadata": {},
   "outputs": [],
   "source": [
    "# remove extraneous columns that we are not using for association rule mining.\n",
    "df_anime_lists.drop(columns=df_anime_lists.columns[2:], inplace=True)\n",
    "\n",
    "# let's try to downcast the int data types.\n",
    "intCols = df_anime_lists.select_dtypes('int').columns\n",
    "df_anime_lists[intCols] = df_anime_lists[intCols].apply(pd.to_numeric, downcast='integer')\n",
    "\n",
    "# downcast float data types\n",
    "fcols = df_anime_lists.select_dtypes('float').columns\n",
    "df_anime_lists[fcols] = df_anime_lists[fcols].apply(pd.to_numeric, downcast='float') "
   ]
  },
  {
   "cell_type": "code",
   "execution_count": 7,
   "metadata": {},
   "outputs": [
    {
     "name": "stdout",
     "output_type": "stream",
     "text": [
      "Total memory used by dataframe: 2088.10 MB\n",
      "Memory Usage Reduction: 80.55431970379016%\n"
     ]
    }
   ],
   "source": [
    "tmp = getMemUsageInMB(df_anime_lists)\n",
    "print(f\"Total memory used by dataframe: {tmp :.2f} MB\")\n",
    "\n",
    "# memory reduced by:\n",
    "print(f\"Memory Usage Reduction: {((orig_mem - tmp)/orig_mem) * 100}%\")\n",
    "del tmp"
   ]
  },
  {
   "cell_type": "code",
   "execution_count": 8,
   "metadata": {},
   "outputs": [
    {
     "name": "stdout",
     "output_type": "stream",
     "text": [
      "<class 'pandas.core.frame.DataFrame'>\n",
      "RangeIndex: 31284030 entries, 0 to 31284029\n",
      "Data columns (total 2 columns):\n",
      " #   Column    Dtype \n",
      "---  ------    ----- \n",
      " 0   username  object\n",
      " 1   anime_id  int32 \n",
      "dtypes: int32(1), object(1)\n",
      "memory usage: 358.0+ MB\n"
     ]
    }
   ],
   "source": [
    "df_anime_lists.info()"
   ]
  },
  {
   "cell_type": "markdown",
   "metadata": {},
   "source": [
    "# Formulate the Transactions and Find Frequent Itemsets"
   ]
  },
  {
   "cell_type": "code",
   "execution_count": 9,
   "metadata": {},
   "outputs": [],
   "source": [
    "from mlxtend.preprocessing import TransactionEncoder\n",
    "from mlxtend.frequent_patterns import apriori\n",
    "from mlxtend.frequent_patterns import association_rules"
   ]
  },
  {
   "cell_type": "code",
   "execution_count": 10,
   "metadata": {},
   "outputs": [
    {
     "data": {
      "text/plain": [
       "username\n",
       "----phoebelyn       [21, 120, 853, 957, 1571, 1579, 1698, 1735, 1,...\n",
       "---L-AND-AME-4EV                                           [20, 1535]\n",
       "--AnimeBoy--        [21, 59, 74, 210, 232, 249, 853, 1557, 1735, 2...\n",
       "--Etsuko--          [3092, 4814, 7054, 7674, 9926, 11013, 11123, 1...\n",
       "--FallenAngel--     [21, 59, 210, 249, 269, 853, 857, 957, 1579, 1...\n",
       "                                          ...                        \n",
       "zzshinzozz          [21, 232, 249, 1735, 7054, 9513, 9863, 10800, ...\n",
       "zzvl                [120, 269, 853, 4224, 6045, 7054, 9926, 10800,...\n",
       "zzz275              [59, 120, 853, 1571, 1698, 2104, 4477, 1, 16, ...\n",
       "zzzcielo            [21, 74, 269, 853, 857, 957, 1698, 1735, 3731,...\n",
       "zzzzz-chan          [21, 59, 120, 210, 232, 269, 853, 857, 1735, 3...\n",
       "Name: anime_id, Length: 108709, dtype: object"
      ]
     },
     "execution_count": 10,
     "metadata": {},
     "output_type": "execute_result"
    }
   ],
   "source": [
    "transactions = df_anime_lists.groupby('username')['anime_id'].apply(list)\n",
    "transactions"
   ]
  },
  {
   "cell_type": "code",
   "execution_count": 11,
   "metadata": {},
   "outputs": [
    {
     "name": "stdout",
     "output_type": "stream",
     "text": [
      "<class 'pandas.core.frame.DataFrame'>\n",
      "RangeIndex: 6668 entries, 0 to 6667\n",
      "Data columns (total 33 columns):\n",
      " #   Column           Non-Null Count  Dtype  \n",
      "---  ------           --------------  -----  \n",
      " 0   anime_id         6668 non-null   int64  \n",
      " 1   title            6668 non-null   object \n",
      " 2   title_english    3438 non-null   object \n",
      " 3   title_japanese   6663 non-null   object \n",
      " 4   title_synonyms   4481 non-null   object \n",
      " 5   image_url        6666 non-null   object \n",
      " 6   type             6668 non-null   object \n",
      " 7   source           6668 non-null   object \n",
      " 8   episodes         6668 non-null   int64  \n",
      " 9   status           6668 non-null   object \n",
      " 10  airing           6668 non-null   bool   \n",
      " 11  aired_string     6668 non-null   object \n",
      " 12  aired            6668 non-null   object \n",
      " 13  duration         6668 non-null   object \n",
      " 14  rating           6586 non-null   object \n",
      " 15  score            6668 non-null   float64\n",
      " 16  scored_by        6668 non-null   int64  \n",
      " 17  rank             6312 non-null   float64\n",
      " 18  popularity       6668 non-null   int64  \n",
      " 19  members          6668 non-null   int64  \n",
      " 20  favorites        6668 non-null   int64  \n",
      " 21  background       813 non-null    object \n",
      " 22  premiered        2966 non-null   object \n",
      " 23  broadcast        2980 non-null   object \n",
      " 24  related          6668 non-null   object \n",
      " 25  producer         4402 non-null   object \n",
      " 26  licensor         2787 non-null   object \n",
      " 27  studio           6668 non-null   object \n",
      " 28  genre            6664 non-null   object \n",
      " 29  opening_theme    6668 non-null   object \n",
      " 30  ending_theme     6668 non-null   object \n",
      " 31  duration_min     6668 non-null   float64\n",
      " 32  aired_from_year  6668 non-null   float64\n",
      "dtypes: bool(1), float64(4), int64(6), object(22)\n",
      "memory usage: 1.6+ MB\n"
     ]
    }
   ],
   "source": [
    "# convert the ids into their English Anime Name\n",
    "df_anime = pd.read_csv(\"./data/anime_cleaned.csv\")\n",
    "df_anime.info()"
   ]
  },
  {
   "cell_type": "code",
   "execution_count": 12,
   "metadata": {},
   "outputs": [
    {
     "name": "stdout",
     "output_type": "stream",
     "text": [
      "<class 'pandas.core.frame.DataFrame'>\n",
      "RangeIndex: 6668 entries, 0 to 6667\n",
      "Data columns (total 2 columns):\n",
      " #   Column    Non-Null Count  Dtype \n",
      "---  ------    --------------  ----- \n",
      " 0   anime_id  6668 non-null   int64 \n",
      " 1   title     6668 non-null   object\n",
      "dtypes: int64(1), object(1)\n",
      "memory usage: 104.3+ KB\n"
     ]
    }
   ],
   "source": [
    "# since some of the title_english column values are not present, we will use the regular `title` which appears to be English at first glance anyways.\n",
    "# to save on memory usage, just grab columns of interest: [anime_id, title]\n",
    "\n",
    "# get mapping from ids into names\n",
    "animeIdToName = {}\n",
    "def foo(row):\n",
    "    animeIdToName[row.anime_id] = row.title\n",
    "df_anime.apply(foo, axis=1)\n",
    "\n",
    "transactions = transactions.apply(lambda x: [animeIdToName[i] for i in x])\n",
    "\n",
    "# remove all other columns except the anime_id and title.\n",
    "df_anime.drop(columns=df_anime.columns[2:], inplace=True)\n",
    "df_anime.info()"
   ]
  },
  {
   "cell_type": "code",
   "execution_count": 13,
   "metadata": {},
   "outputs": [],
   "source": [
    "# running out of mem, so delete the dataframe objects currently in RAM\n",
    "del df_anime_lists\n",
    "del df_anime"
   ]
  },
  {
   "cell_type": "code",
   "execution_count": 14,
   "metadata": {},
   "outputs": [
    {
     "data": {
      "text/html": [
       "<div>\n",
       "<style scoped>\n",
       "    .dataframe tbody tr th:only-of-type {\n",
       "        vertical-align: middle;\n",
       "    }\n",
       "\n",
       "    .dataframe tbody tr th {\n",
       "        vertical-align: top;\n",
       "    }\n",
       "\n",
       "    .dataframe thead th {\n",
       "        text-align: right;\n",
       "    }\n",
       "</style>\n",
       "<table border=\"1\" class=\"dataframe\">\n",
       "  <thead>\n",
       "    <tr style=\"text-align: right;\">\n",
       "      <th></th>\n",
       "      <th>support</th>\n",
       "      <th>itemsets</th>\n",
       "    </tr>\n",
       "  </thead>\n",
       "  <tbody>\n",
       "    <tr>\n",
       "      <th>0</th>\n",
       "      <td>0.344323</td>\n",
       "      <td>(Akame ga Kill!)</td>\n",
       "    </tr>\n",
       "    <tr>\n",
       "      <th>1</th>\n",
       "      <td>0.569962</td>\n",
       "      <td>(Angel Beats!)</td>\n",
       "    </tr>\n",
       "    <tr>\n",
       "      <th>2</th>\n",
       "      <td>0.429983</td>\n",
       "      <td>(Ano Hi Mita Hana no Namae wo Bokutachi wa Mad...</td>\n",
       "    </tr>\n",
       "    <tr>\n",
       "      <th>3</th>\n",
       "      <td>0.450699</td>\n",
       "      <td>(Another)</td>\n",
       "    </tr>\n",
       "    <tr>\n",
       "      <th>4</th>\n",
       "      <td>0.464626</td>\n",
       "      <td>(Ao no Exorcist)</td>\n",
       "    </tr>\n",
       "    <tr>\n",
       "      <th>...</th>\n",
       "      <td>...</td>\n",
       "      <td>...</td>\n",
       "    </tr>\n",
       "    <tr>\n",
       "      <th>1376</th>\n",
       "      <td>0.305025</td>\n",
       "      <td>(Sword Art Online, Shingeki no Kyojin, Mirai N...</td>\n",
       "    </tr>\n",
       "    <tr>\n",
       "      <th>1377</th>\n",
       "      <td>0.317389</td>\n",
       "      <td>(Sword Art Online, Shingeki no Kyojin, Steins;...</td>\n",
       "    </tr>\n",
       "    <tr>\n",
       "      <th>1378</th>\n",
       "      <td>0.320893</td>\n",
       "      <td>(Sword Art Online, Shingeki no Kyojin, Steins;...</td>\n",
       "    </tr>\n",
       "    <tr>\n",
       "      <th>1379</th>\n",
       "      <td>0.303287</td>\n",
       "      <td>(Sword Art Online, Shingeki no Kyojin, Mirai N...</td>\n",
       "    </tr>\n",
       "    <tr>\n",
       "      <th>1380</th>\n",
       "      <td>0.305770</td>\n",
       "      <td>(Sword Art Online, Shingeki no Kyojin, Steins;...</td>\n",
       "    </tr>\n",
       "  </tbody>\n",
       "</table>\n",
       "<p>1381 rows × 2 columns</p>\n",
       "</div>"
      ],
      "text/plain": [
       "       support                                           itemsets\n",
       "0     0.344323                                   (Akame ga Kill!)\n",
       "1     0.569962                                     (Angel Beats!)\n",
       "2     0.429983  (Ano Hi Mita Hana no Namae wo Bokutachi wa Mad...\n",
       "3     0.450699                                          (Another)\n",
       "4     0.464626                                   (Ao no Exorcist)\n",
       "...        ...                                                ...\n",
       "1376  0.305025  (Sword Art Online, Shingeki no Kyojin, Mirai N...\n",
       "1377  0.317389  (Sword Art Online, Shingeki no Kyojin, Steins;...\n",
       "1378  0.320893  (Sword Art Online, Shingeki no Kyojin, Steins;...\n",
       "1379  0.303287  (Sword Art Online, Shingeki no Kyojin, Mirai N...\n",
       "1380  0.305770  (Sword Art Online, Shingeki no Kyojin, Steins;...\n",
       "\n",
       "[1381 rows x 2 columns]"
      ]
     },
     "execution_count": 14,
     "metadata": {},
     "output_type": "execute_result"
    }
   ],
   "source": [
    "MIN_SUPPORT = 0.30\n",
    "\n",
    "te = TransactionEncoder()\n",
    "te_ary = te.fit(transactions).transform(transactions)\n",
    "df = pd.DataFrame(te_ary, columns=te.columns_)\n",
    "frequent_itemsets = apriori(df, min_support=MIN_SUPPORT, use_colnames=True)\n",
    "\n",
    "frequent_itemsets"
   ]
  },
  {
   "cell_type": "code",
   "execution_count": 16,
   "metadata": {},
   "outputs": [
    {
     "data": {
      "text/html": [
       "<div>\n",
       "<style scoped>\n",
       "    .dataframe tbody tr th:only-of-type {\n",
       "        vertical-align: middle;\n",
       "    }\n",
       "\n",
       "    .dataframe tbody tr th {\n",
       "        vertical-align: top;\n",
       "    }\n",
       "\n",
       "    .dataframe thead th {\n",
       "        text-align: right;\n",
       "    }\n",
       "</style>\n",
       "<table border=\"1\" class=\"dataframe\">\n",
       "  <thead>\n",
       "    <tr style=\"text-align: right;\">\n",
       "      <th></th>\n",
       "      <th>antecedents</th>\n",
       "      <th>consequents</th>\n",
       "      <th>antecedent support</th>\n",
       "      <th>consequent support</th>\n",
       "      <th>support</th>\n",
       "      <th>confidence</th>\n",
       "      <th>lift</th>\n",
       "      <th>leverage</th>\n",
       "      <th>conviction</th>\n",
       "      <th>zhangs_metric</th>\n",
       "    </tr>\n",
       "  </thead>\n",
       "  <tbody>\n",
       "    <tr>\n",
       "      <th>0</th>\n",
       "      <td>(Shingeki no Kyojin)</td>\n",
       "      <td>(Akame ga Kill!)</td>\n",
       "      <td>0.573338</td>\n",
       "      <td>0.344323</td>\n",
       "      <td>0.316883</td>\n",
       "      <td>0.552698</td>\n",
       "      <td>1.605173</td>\n",
       "      <td>0.119469</td>\n",
       "      <td>1.465848</td>\n",
       "      <td>0.883637</td>\n",
       "    </tr>\n",
       "    <tr>\n",
       "      <th>1</th>\n",
       "      <td>(Akame ga Kill!)</td>\n",
       "      <td>(Shingeki no Kyojin)</td>\n",
       "      <td>0.344323</td>\n",
       "      <td>0.573338</td>\n",
       "      <td>0.316883</td>\n",
       "      <td>0.920307</td>\n",
       "      <td>1.605173</td>\n",
       "      <td>0.119469</td>\n",
       "      <td>5.353800</td>\n",
       "      <td>0.575000</td>\n",
       "    </tr>\n",
       "    <tr>\n",
       "      <th>2</th>\n",
       "      <td>(Sword Art Online)</td>\n",
       "      <td>(Akame ga Kill!)</td>\n",
       "      <td>0.575003</td>\n",
       "      <td>0.344323</td>\n",
       "      <td>0.316938</td>\n",
       "      <td>0.551193</td>\n",
       "      <td>1.600804</td>\n",
       "      <td>0.118951</td>\n",
       "      <td>1.460935</td>\n",
       "      <td>0.883098</td>\n",
       "    </tr>\n",
       "    <tr>\n",
       "      <th>3</th>\n",
       "      <td>(Akame ga Kill!)</td>\n",
       "      <td>(Sword Art Online)</td>\n",
       "      <td>0.344323</td>\n",
       "      <td>0.575003</td>\n",
       "      <td>0.316938</td>\n",
       "      <td>0.920467</td>\n",
       "      <td>1.600804</td>\n",
       "      <td>0.118951</td>\n",
       "      <td>5.343656</td>\n",
       "      <td>0.572407</td>\n",
       "    </tr>\n",
       "    <tr>\n",
       "      <th>4</th>\n",
       "      <td>(Angel Beats!)</td>\n",
       "      <td>(Ano Hi Mita Hana no Namae wo Bokutachi wa Mad...</td>\n",
       "      <td>0.569962</td>\n",
       "      <td>0.429983</td>\n",
       "      <td>0.365315</td>\n",
       "      <td>0.640946</td>\n",
       "      <td>1.490631</td>\n",
       "      <td>0.120241</td>\n",
       "      <td>1.587552</td>\n",
       "      <td>0.765382</td>\n",
       "    </tr>\n",
       "    <tr>\n",
       "      <th>...</th>\n",
       "      <td>...</td>\n",
       "      <td>...</td>\n",
       "      <td>...</td>\n",
       "      <td>...</td>\n",
       "      <td>...</td>\n",
       "      <td>...</td>\n",
       "      <td>...</td>\n",
       "      <td>...</td>\n",
       "      <td>...</td>\n",
       "      <td>...</td>\n",
       "    </tr>\n",
       "    <tr>\n",
       "      <th>5661</th>\n",
       "      <td>(Steins;Gate, Toradora!)</td>\n",
       "      <td>(Sword Art Online, Shingeki no Kyojin)</td>\n",
       "      <td>0.395781</td>\n",
       "      <td>0.480337</td>\n",
       "      <td>0.305770</td>\n",
       "      <td>0.772574</td>\n",
       "      <td>1.608399</td>\n",
       "      <td>0.115662</td>\n",
       "      <td>2.284975</td>\n",
       "      <td>0.626038</td>\n",
       "    </tr>\n",
       "    <tr>\n",
       "      <th>5662</th>\n",
       "      <td>(Sword Art Online)</td>\n",
       "      <td>(Shingeki no Kyojin, Steins;Gate, Toradora!)</td>\n",
       "      <td>0.575003</td>\n",
       "      <td>0.335869</td>\n",
       "      <td>0.305770</td>\n",
       "      <td>0.531772</td>\n",
       "      <td>1.583271</td>\n",
       "      <td>0.112645</td>\n",
       "      <td>1.418392</td>\n",
       "      <td>0.866821</td>\n",
       "    </tr>\n",
       "    <tr>\n",
       "      <th>5663</th>\n",
       "      <td>(Shingeki no Kyojin)</td>\n",
       "      <td>(Sword Art Online, Steins;Gate, Toradora!)</td>\n",
       "      <td>0.573338</td>\n",
       "      <td>0.339365</td>\n",
       "      <td>0.305770</td>\n",
       "      <td>0.533316</td>\n",
       "      <td>1.571513</td>\n",
       "      <td>0.111200</td>\n",
       "      <td>1.415595</td>\n",
       "      <td>0.852363</td>\n",
       "    </tr>\n",
       "    <tr>\n",
       "      <th>5664</th>\n",
       "      <td>(Steins;Gate)</td>\n",
       "      <td>(Sword Art Online, Shingeki no Kyojin, Toradora!)</td>\n",
       "      <td>0.521236</td>\n",
       "      <td>0.364422</td>\n",
       "      <td>0.305770</td>\n",
       "      <td>0.586626</td>\n",
       "      <td>1.609742</td>\n",
       "      <td>0.115821</td>\n",
       "      <td>1.537537</td>\n",
       "      <td>0.791167</td>\n",
       "    </tr>\n",
       "    <tr>\n",
       "      <th>5665</th>\n",
       "      <td>(Toradora!)</td>\n",
       "      <td>(Sword Art Online, Shingeki no Kyojin, Steins;...</td>\n",
       "      <td>0.582077</td>\n",
       "      <td>0.381284</td>\n",
       "      <td>0.305770</td>\n",
       "      <td>0.525309</td>\n",
       "      <td>1.377738</td>\n",
       "      <td>0.083834</td>\n",
       "      <td>1.303409</td>\n",
       "      <td>0.656036</td>\n",
       "    </tr>\n",
       "  </tbody>\n",
       "</table>\n",
       "<p>5666 rows × 10 columns</p>\n",
       "</div>"
      ],
      "text/plain": [
       "                   antecedents  \\\n",
       "0         (Shingeki no Kyojin)   \n",
       "1             (Akame ga Kill!)   \n",
       "2           (Sword Art Online)   \n",
       "3             (Akame ga Kill!)   \n",
       "4               (Angel Beats!)   \n",
       "...                        ...   \n",
       "5661  (Steins;Gate, Toradora!)   \n",
       "5662        (Sword Art Online)   \n",
       "5663      (Shingeki no Kyojin)   \n",
       "5664             (Steins;Gate)   \n",
       "5665               (Toradora!)   \n",
       "\n",
       "                                            consequents  antecedent support  \\\n",
       "0                                      (Akame ga Kill!)            0.573338   \n",
       "1                                  (Shingeki no Kyojin)            0.344323   \n",
       "2                                      (Akame ga Kill!)            0.575003   \n",
       "3                                    (Sword Art Online)            0.344323   \n",
       "4     (Ano Hi Mita Hana no Namae wo Bokutachi wa Mad...            0.569962   \n",
       "...                                                 ...                 ...   \n",
       "5661             (Sword Art Online, Shingeki no Kyojin)            0.395781   \n",
       "5662       (Shingeki no Kyojin, Steins;Gate, Toradora!)            0.575003   \n",
       "5663         (Sword Art Online, Steins;Gate, Toradora!)            0.573338   \n",
       "5664  (Sword Art Online, Shingeki no Kyojin, Toradora!)            0.521236   \n",
       "5665  (Sword Art Online, Shingeki no Kyojin, Steins;...            0.582077   \n",
       "\n",
       "      consequent support   support  confidence      lift  leverage  \\\n",
       "0               0.344323  0.316883    0.552698  1.605173  0.119469   \n",
       "1               0.573338  0.316883    0.920307  1.605173  0.119469   \n",
       "2               0.344323  0.316938    0.551193  1.600804  0.118951   \n",
       "3               0.575003  0.316938    0.920467  1.600804  0.118951   \n",
       "4               0.429983  0.365315    0.640946  1.490631  0.120241   \n",
       "...                  ...       ...         ...       ...       ...   \n",
       "5661            0.480337  0.305770    0.772574  1.608399  0.115662   \n",
       "5662            0.335869  0.305770    0.531772  1.583271  0.112645   \n",
       "5663            0.339365  0.305770    0.533316  1.571513  0.111200   \n",
       "5664            0.364422  0.305770    0.586626  1.609742  0.115821   \n",
       "5665            0.381284  0.305770    0.525309  1.377738  0.083834   \n",
       "\n",
       "      conviction  zhangs_metric  \n",
       "0       1.465848       0.883637  \n",
       "1       5.353800       0.575000  \n",
       "2       1.460935       0.883098  \n",
       "3       5.343656       0.572407  \n",
       "4       1.587552       0.765382  \n",
       "...          ...            ...  \n",
       "5661    2.284975       0.626038  \n",
       "5662    1.418392       0.866821  \n",
       "5663    1.415595       0.852363  \n",
       "5664    1.537537       0.791167  \n",
       "5665    1.303409       0.656036  \n",
       "\n",
       "[5666 rows x 10 columns]"
      ]
     },
     "execution_count": 16,
     "metadata": {},
     "output_type": "execute_result"
    }
   ],
   "source": [
    "rules = association_rules(frequent_itemsets, metric='confidence', min_threshold=0.5)\n",
    "rules"
   ]
  },
  {
   "cell_type": "code",
   "execution_count": 17,
   "metadata": {},
   "outputs": [],
   "source": [
    "def viewTopKRules(rules : pd.DataFrame, metric : str | list[str], k : int, ascending : bool = False) -> pd.DataFrame:\n",
    "    '''\n",
    "    return a subset of the rules dataframe \n",
    "    given the metric / metrics to sort by\n",
    "    top k to return\n",
    "    and whether to be sorted in ascending or descending order\n",
    "    '''\n",
    "    return rules.sort_values(by=metric, ascending=ascending).head(k)"
   ]
  },
  {
   "cell_type": "code",
   "execution_count": 18,
   "metadata": {},
   "outputs": [
    {
     "data": {
      "text/html": [
       "<div>\n",
       "<style scoped>\n",
       "    .dataframe tbody tr th:only-of-type {\n",
       "        vertical-align: middle;\n",
       "    }\n",
       "\n",
       "    .dataframe tbody tr th {\n",
       "        vertical-align: top;\n",
       "    }\n",
       "\n",
       "    .dataframe thead th {\n",
       "        text-align: right;\n",
       "    }\n",
       "</style>\n",
       "<table border=\"1\" class=\"dataframe\">\n",
       "  <thead>\n",
       "    <tr style=\"text-align: right;\">\n",
       "      <th></th>\n",
       "      <th>antecedents</th>\n",
       "      <th>consequents</th>\n",
       "      <th>antecedent support</th>\n",
       "      <th>consequent support</th>\n",
       "      <th>support</th>\n",
       "      <th>confidence</th>\n",
       "      <th>lift</th>\n",
       "      <th>leverage</th>\n",
       "      <th>conviction</th>\n",
       "      <th>zhangs_metric</th>\n",
       "    </tr>\n",
       "  </thead>\n",
       "  <tbody>\n",
       "    <tr>\n",
       "      <th>4326</th>\n",
       "      <td>(Sword Art Online II, Shingeki no Kyojin)</td>\n",
       "      <td>(Sword Art Online)</td>\n",
       "      <td>0.324159</td>\n",
       "      <td>0.575003</td>\n",
       "      <td>0.322770</td>\n",
       "      <td>0.995715</td>\n",
       "      <td>1.731669</td>\n",
       "      <td>0.136378</td>\n",
       "      <td>99.181918</td>\n",
       "      <td>0.625180</td>\n",
       "    </tr>\n",
       "    <tr>\n",
       "      <th>3767</th>\n",
       "      <td>(Sword Art Online II, Death Note)</td>\n",
       "      <td>(Sword Art Online)</td>\n",
       "      <td>0.304860</td>\n",
       "      <td>0.575003</td>\n",
       "      <td>0.303425</td>\n",
       "      <td>0.995293</td>\n",
       "      <td>1.730935</td>\n",
       "      <td>0.128129</td>\n",
       "      <td>90.287346</td>\n",
       "      <td>0.607471</td>\n",
       "    </tr>\n",
       "    <tr>\n",
       "      <th>1105</th>\n",
       "      <td>(Sword Art Online II)</td>\n",
       "      <td>(Sword Art Online)</td>\n",
       "      <td>0.358894</td>\n",
       "      <td>0.575003</td>\n",
       "      <td>0.356585</td>\n",
       "      <td>0.993567</td>\n",
       "      <td>1.727933</td>\n",
       "      <td>0.150220</td>\n",
       "      <td>66.060790</td>\n",
       "      <td>0.657105</td>\n",
       "    </tr>\n",
       "    <tr>\n",
       "      <th>5073</th>\n",
       "      <td>(Code Geass: Hangyaku no Lelouch R2, Tengen To...</td>\n",
       "      <td>(Code Geass: Hangyaku no Lelouch)</td>\n",
       "      <td>0.321841</td>\n",
       "      <td>0.622957</td>\n",
       "      <td>0.319679</td>\n",
       "      <td>0.993283</td>\n",
       "      <td>1.594466</td>\n",
       "      <td>0.119186</td>\n",
       "      <td>56.134527</td>\n",
       "      <td>0.549769</td>\n",
       "    </tr>\n",
       "    <tr>\n",
       "      <th>2646</th>\n",
       "      <td>(Code Geass: Hangyaku no Lelouch R2, Darker th...</td>\n",
       "      <td>(Code Geass: Hangyaku no Lelouch)</td>\n",
       "      <td>0.323175</td>\n",
       "      <td>0.622957</td>\n",
       "      <td>0.320930</td>\n",
       "      <td>0.993055</td>\n",
       "      <td>1.594099</td>\n",
       "      <td>0.119606</td>\n",
       "      <td>54.288054</td>\n",
       "      <td>0.550639</td>\n",
       "    </tr>\n",
       "  </tbody>\n",
       "</table>\n",
       "</div>"
      ],
      "text/plain": [
       "                                            antecedents  \\\n",
       "4326          (Sword Art Online II, Shingeki no Kyojin)   \n",
       "3767                  (Sword Art Online II, Death Note)   \n",
       "1105                              (Sword Art Online II)   \n",
       "5073  (Code Geass: Hangyaku no Lelouch R2, Tengen To...   \n",
       "2646  (Code Geass: Hangyaku no Lelouch R2, Darker th...   \n",
       "\n",
       "                            consequents  antecedent support  \\\n",
       "4326                 (Sword Art Online)            0.324159   \n",
       "3767                 (Sword Art Online)            0.304860   \n",
       "1105                 (Sword Art Online)            0.358894   \n",
       "5073  (Code Geass: Hangyaku no Lelouch)            0.321841   \n",
       "2646  (Code Geass: Hangyaku no Lelouch)            0.323175   \n",
       "\n",
       "      consequent support   support  confidence      lift  leverage  \\\n",
       "4326            0.575003  0.322770    0.995715  1.731669  0.136378   \n",
       "3767            0.575003  0.303425    0.995293  1.730935  0.128129   \n",
       "1105            0.575003  0.356585    0.993567  1.727933  0.150220   \n",
       "5073            0.622957  0.319679    0.993283  1.594466  0.119186   \n",
       "2646            0.622957  0.320930    0.993055  1.594099  0.119606   \n",
       "\n",
       "      conviction  zhangs_metric  \n",
       "4326   99.181918       0.625180  \n",
       "3767   90.287346       0.607471  \n",
       "1105   66.060790       0.657105  \n",
       "5073   56.134527       0.549769  \n",
       "2646   54.288054       0.550639  "
      ]
     },
     "execution_count": 18,
     "metadata": {},
     "output_type": "execute_result"
    }
   ],
   "source": [
    "viewTopKRules(rules, metric=['confidence', 'lift'], k=5)"
   ]
  },
  {
   "cell_type": "markdown",
   "metadata": {},
   "source": [
    "### Create recommendations from association rules. Start with a simple search."
   ]
  },
  {
   "cell_type": "code",
   "execution_count": 117,
   "metadata": {},
   "outputs": [],
   "source": [
    "def recommendAnimeSimple( userList : list[str] ) -> list[str]:\n",
    "    '''\n",
    "    Given a list of anime the user watches, return a list of anime recommendations.\n",
    "\n",
    "    Returns all the anime from the consequents of association rules that contain any one of the anime in the userlist.\n",
    "    Only considers subsets of the userList of length 1 to match for antecedents.\n",
    "\n",
    "    Output data format:\n",
    "        (anime_recommendation, score)\n",
    "            score - integer value noting how far away from the top rule this rec came from (lower is better)\n",
    "    '''\n",
    "    assert isinstance(userList, list), 'input not of type list'\n",
    "    \n",
    "    retList = []\n",
    "    retAnime = set()\n",
    "    # try to use as much of the anime in the user list as possible until\n",
    "    # for now, loop over each anime in the user's list and add to our set of recommendations\n",
    "    # the anime in the consequents of the top rule containing a user liked anime in the antecedents\n",
    "    for anime in userList:\n",
    "        score = 0 # lower the better\n",
    "        for index, row in rules.sort_values(by=['confidence', 'lift'], ascending=False).iterrows():\n",
    "            if anime in list(row.antecedents):\n",
    "                consequents = list(row.consequents)\n",
    "                for a in consequents:\n",
    "                    if a in retAnime: continue\n",
    "                    retAnime.add(a)\n",
    "                    retList.append((a, score))\n",
    "            score += 1 # increment, the higher the score, the further away from the top rules the anime rec comes from\n",
    "\n",
    "    # sort return list of anime by ascending score\n",
    "    retList = sorted(retList, key=lambda x : x[1])\n",
    "    \n",
    "    return retList"
   ]
  },
  {
   "cell_type": "code",
   "execution_count": 118,
   "metadata": {},
   "outputs": [
    {
     "data": {
      "text/plain": [
       "[('Code Geass: Hangyaku no Lelouch', 34),\n",
       " ('Death Note', 75),\n",
       " ('Shingeki no Kyojin', 608),\n",
       " ('Sword Art Online', 663),\n",
       " ('Code Geass: Hangyaku no Lelouch R2', 998),\n",
       " ('Bleach', 1040),\n",
       " ('Naruto: Shippuuden', 1160),\n",
       " ('Fullmetal Alchemist: Brotherhood', 1199),\n",
       " ('Clannad: After Story', 1343),\n",
       " ('Fullmetal Alchemist', 1927),\n",
       " ('Elfen Lied', 2090),\n",
       " ('No Game No Life', 2470),\n",
       " ('Ano Hi Mita Hana no Namae wo Bokutachi wa Mada Shiranai.', 2514),\n",
       " ('Soul Eater', 2541),\n",
       " ('Another', 2571),\n",
       " ('Naruto', 2956),\n",
       " ('Toradora!', 3302),\n",
       " ('Angel Beats!', 3478),\n",
       " ('Durarara!!', 3704),\n",
       " ('Clannad', 3712),\n",
       " ('Tengen Toppa Gurren Lagann', 3747),\n",
       " ('K-On!', 3832),\n",
       " ('Fairy Tail', 3860),\n",
       " ('Steins;Gate', 3875),\n",
       " ('One Piece', 4166),\n",
       " ('Suzumiya Haruhi no Yuuutsu', 4177),\n",
       " ('Mahou Shoujo Madoka★Magica', 4721),\n",
       " ('Highschool of the Dead', 4771),\n",
       " ('Sen to Chihiro no Kamikakushi', 4813),\n",
       " ('Ao no Exorcist', 4845),\n",
       " ('Mirai Nikki (TV)', 4863),\n",
       " ('Bakemonogatari', 4907),\n",
       " ('Kaichou wa Maid-sama!', 4970),\n",
       " ('Higurashi no Naku Koro ni', 4972),\n",
       " ('Zero no Tsukaima', 5020),\n",
       " ('Byousoku 5 Centimeter', 5119),\n",
       " ('Fate/stay night', 5177),\n",
       " ('Hyouka', 5201),\n",
       " ('Guilty Crown', 5202),\n",
       " ('Chuunibyou demo Koi ga Shitai!', 5204),\n",
       " ('Darker than Black: Kuro no Keiyakusha', 5219),\n",
       " ('Noragami', 5226),\n",
       " ('Ore no Imouto ga Konnani Kawaii Wake ga Nai', 5247),\n",
       " ('Ookami to Koushinryou', 5248),\n",
       " ('Psycho-Pass', 5258),\n",
       " ('Tokyo Ghoul', 5360),\n",
       " ('Ouran Koukou Host Club', 5418),\n",
       " ('Shakugan no Shana', 5441),\n",
       " ('Neon Genesis Evangelion', 5453),\n",
       " ('Hataraku Maou-sama!', 5461),\n",
       " ('Kimi ni Todoke', 5499),\n",
       " ('Cowboy Bebop', 5548),\n",
       " ('One Punch Man', 5563),\n",
       " ('Toaru Majutsu no Index', 5576),\n",
       " ('Lucky☆Star', 5587)]"
      ]
     },
     "execution_count": 118,
     "metadata": {},
     "output_type": "execute_result"
    }
   ],
   "source": [
    "recommendAnimeSimple(['Naruto', \"Toradora!\"])"
   ]
  },
  {
   "cell_type": "markdown",
   "metadata": {},
   "source": [
    "### Create a better recommendAnime function.\n",
    "The simple version above checks each individual anime in the user input list, one by one, and finds the top rule that contains the anime in its antecedents and adds to the recommendation list the anime in the consequents. This is clearly ignoring the information in having the anime found in a set TOGETHER. So we need to figure out how to match and find the best subset of antecedent and return just that rule's consequent, to make the recommendations more meaningful. "
   ]
  },
  {
   "cell_type": "code",
   "execution_count": 78,
   "metadata": {},
   "outputs": [],
   "source": [
    "from itertools import chain, combinations\n",
    "\n",
    "def powerset(iterable):\n",
    "    \"powerset([1,2,3]) --> () (1,) (2,) (3,) (1,2) (1,3) (2,3) (1,2,3)\"\n",
    "    s = list(iterable)\n",
    "    return chain.from_iterable(combinations(s, r) for r in range(len(s)+1))"
   ]
  },
  {
   "cell_type": "code",
   "execution_count": 80,
   "metadata": {},
   "outputs": [
    {
     "data": {
      "text/plain": [
       "[(), ('Naruto',), ('Toradora!',), ('Naruto', 'Toradora!')]"
      ]
     },
     "execution_count": 80,
     "metadata": {},
     "output_type": "execute_result"
    }
   ],
   "source": [
    "[x for x in powerset(['Naruto', 'Toradora!'])]"
   ]
  },
  {
   "cell_type": "code",
   "execution_count": 103,
   "metadata": {},
   "outputs": [
    {
     "data": {
      "text/plain": [
       "[frozenset({'Naruto', 'Shingeki no Kyojin', 'Toradora!'}),\n",
       " frozenset({'Naruto', 'Toradora!'}),\n",
       " frozenset({'Naruto', 'Shingeki no Kyojin'}),\n",
       " frozenset({'Shingeki no Kyojin', 'Toradora!'}),\n",
       " frozenset({'Naruto'}),\n",
       " frozenset({'Toradora!'}),\n",
       " frozenset({'Shingeki no Kyojin'})]"
      ]
     },
     "execution_count": 103,
     "metadata": {},
     "output_type": "execute_result"
    }
   ],
   "source": [
    "tmp = ['Naruto', 'Toradora!', 'Shingeki no Kyojin']\n",
    "tmp = [x for x in powerset(tmp)]\n",
    "tmp = list(filter(lambda x : True if len(x) >= 1 else False, tmp))\n",
    "tmp = sorted(tmp, key=lambda x: len(x), reverse=True)\n",
    "tmp = [frozenset(x) for x in tmp]\n",
    "tmp"
   ]
  },
  {
   "cell_type": "code",
   "execution_count": 114,
   "metadata": {},
   "outputs": [
    {
     "data": {
      "text/plain": [
       "True"
      ]
     },
     "execution_count": 114,
     "metadata": {},
     "output_type": "execute_result"
    }
   ],
   "source": [
    "# great, the order doesn't matter in the frozenset comparison.\n",
    "frozenset({'Naruto', 'Toradora!'}) == frozenset({'Toradora!', 'Naruto'})"
   ]
  },
  {
   "cell_type": "code",
   "execution_count": 115,
   "metadata": {},
   "outputs": [],
   "source": [
    "def recommendAnimeBetter( userList : list[str] ) -> list[str]:\n",
    "    '''\n",
    "    Given a list of anime the user watches, return a list of anime recommendations.\n",
    "\n",
    "    This is the better version that tries to match as much of animes in the original list.\n",
    "    Then we start to add more recommendations by using rules that match fewer and fewer until we are matching rules from singleton animes from userList.\n",
    "\n",
    "    Return data format:\n",
    "        (anime_recommendation, score1, score2)\n",
    "            score1 - this is the number of animes used to match the rule for this rec (higher is better)\n",
    "            score2 - this is how far away from the strongest/top rule this rec was found at (lower is better)\n",
    "    \n",
    "    '''\n",
    "    assert isinstance(userList, list), 'input not of type list'\n",
    "    \n",
    "    retList = []\n",
    "    retAnime = set()\n",
    "\n",
    "    # create all subsets with at least 1 anime\n",
    "    tmp = [x for x in powerset(userList)]\n",
    "    tmp = list(filter(lambda x : True if len(x) >= 1 else False, tmp))\n",
    "    tmp = sorted(tmp, key=lambda x: len(x), reverse=True)\n",
    "    tmp = [frozenset(x) for x in tmp]\n",
    "\n",
    "    for subset in tmp:\n",
    "        score2 = 0\n",
    "        for index, row in rules.sort_values(by=['confidence', 'lift'], ascending=False).iterrows():\n",
    "            if subset == row.antecedents:\n",
    "                consequents = list(row.consequents)\n",
    "                for a in consequents:\n",
    "\n",
    "                    # don't add this anime if we already got it\n",
    "                    if a in retAnime: continue\n",
    "\n",
    "                    retAnime.add(a)\n",
    "\n",
    "                    score1 = len(subset)\n",
    "                    retList.append((a, score1, score2))\n",
    "\n",
    "            score2 += 1\n",
    "    \n",
    "    # sort return list of anime by descending number of anime from \n",
    "    retList = sorted(retList, key=lambda x : x[1], reverse=True)\n",
    "    \n",
    "    return retList"
   ]
  },
  {
   "cell_type": "code",
   "execution_count": 116,
   "metadata": {},
   "outputs": [
    {
     "data": {
      "text/plain": [
       "[('Death Note', 2, 427),\n",
       " ('Sword Art Online', 2, 663),\n",
       " ('Fullmetal Alchemist: Brotherhood', 2, 1199),\n",
       " ('Naruto: Shippuuden', 2, 1437),\n",
       " ('Angel Beats!', 2, 875),\n",
       " ('Steins;Gate', 2, 1255),\n",
       " ('Mirai Nikki (TV)', 2, 1481),\n",
       " ('Code Geass: Hangyaku no Lelouch', 2, 1652),\n",
       " ('Clannad', 2, 1781),\n",
       " ('Durarara!!', 2, 1957),\n",
       " ('Bakemonogatari', 2, 2040),\n",
       " ('Elfen Lied', 2, 2337),\n",
       " ('Bleach', 1, 2017),\n",
       " ('Fullmetal Alchemist', 1, 3318),\n",
       " ('Shingeki no Kyojin', 1, 3535),\n",
       " ('Soul Eater', 1, 3648),\n",
       " ('Toradora!', 1, 3672),\n",
       " ('Code Geass: Hangyaku no Lelouch R2', 1, 4190),\n",
       " ('Tengen Toppa Gurren Lagann', 1, 4302),\n",
       " ('Fairy Tail', 1, 4329),\n",
       " ('Suzumiya Haruhi no Yuuutsu', 1, 4582),\n",
       " ('One Piece', 1, 4624),\n",
       " ('Highschool of the Dead', 1, 4771),\n",
       " ('Sen to Chihiro no Kamikakushi', 1, 4813),\n",
       " ('Ao no Exorcist', 1, 4845),\n",
       " ('Darker than Black: Kuro no Keiyakusha', 1, 5219),\n",
       " ('Neon Genesis Evangelion', 1, 5453),\n",
       " ('Cowboy Bebop', 1, 5548),\n",
       " ('Naruto', 1, 3679),\n",
       " ('Ano Hi Mita Hana no Namae wo Bokutachi wa Mada Shiranai.', 1, 4053),\n",
       " ('Clannad: After Story', 1, 4065),\n",
       " ('K-On!', 1, 4111),\n",
       " ('Another', 1, 4403),\n",
       " ('Mahou Shoujo Madoka★Magica', 1, 4721),\n",
       " ('No Game No Life', 1, 4742),\n",
       " ('Kaichou wa Maid-sama!', 1, 4970),\n",
       " ('Higurashi no Naku Koro ni', 1, 4972),\n",
       " ('Zero no Tsukaima', 1, 5020),\n",
       " ('Byousoku 5 Centimeter', 1, 5119),\n",
       " ('Fate/stay night', 1, 5177),\n",
       " ('Hyouka', 1, 5201),\n",
       " ('Guilty Crown', 1, 5202),\n",
       " ('Chuunibyou demo Koi ga Shitai!', 1, 5204),\n",
       " ('Noragami', 1, 5226),\n",
       " ('Ore no Imouto ga Konnani Kawaii Wake ga Nai', 1, 5247),\n",
       " ('Ookami to Koushinryou', 1, 5248),\n",
       " ('Psycho-Pass', 1, 5258),\n",
       " ('Tokyo Ghoul', 1, 5360),\n",
       " ('Ouran Koukou Host Club', 1, 5418),\n",
       " ('Shakugan no Shana', 1, 5441),\n",
       " ('Hataraku Maou-sama!', 1, 5461),\n",
       " ('Kimi ni Todoke', 1, 5499),\n",
       " ('One Punch Man', 1, 5563),\n",
       " ('Toaru Majutsu no Index', 1, 5576),\n",
       " ('Lucky☆Star', 1, 5587),\n",
       " ('Kill la Kill', 1, 4259),\n",
       " ('Fate/Zero', 1, 4605),\n",
       " ('Deadman Wonderland', 1, 4665),\n",
       " ('Sword Art Online II', 1, 4786),\n",
       " ('Akame ga Kill!', 1, 4982),\n",
       " ('Kiseijuu: Sei no Kakuritsu', 1, 5215),\n",
       " ('Boku dake ga Inai Machi', 1, 5270),\n",
       " ('Shigatsu wa Kimi no Uso', 1, 5292)]"
      ]
     },
     "execution_count": 116,
     "metadata": {},
     "output_type": "execute_result"
    }
   ],
   "source": [
    "recommendAnimeBetter(['Naruto', 'Toradora!', 'Shingeki no Kyojin'])"
   ]
  },
  {
   "cell_type": "code",
   "execution_count": null,
   "metadata": {},
   "outputs": [],
   "source": []
  }
 ],
 "metadata": {
  "kernelspec": {
   "display_name": "Python 3 (ipykernel)",
   "language": "python",
   "name": "python3"
  },
  "language_info": {
   "codemirror_mode": {
    "name": "ipython",
    "version": 3
   },
   "file_extension": ".py",
   "mimetype": "text/x-python",
   "name": "python",
   "nbconvert_exporter": "python",
   "pygments_lexer": "ipython3",
   "version": "3.10.13"
  }
 },
 "nbformat": 4,
 "nbformat_minor": 4
}
