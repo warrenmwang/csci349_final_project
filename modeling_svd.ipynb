{
 "cells": [
  {
   "cell_type": "markdown",
   "id": "56d614f1-e6be-4255-aa74-1ede7b109450",
   "metadata": {},
   "source": [
    "## Inference for SVD after GridSearch\n",
    "\n",
    "Uses the grid object to make predictions using the best algo configuration found by the GridSearch. \n",
    "Separate notebook for inference since running the GridSearch takes about 5 hours, so we just load back in the pickled grid object containing the best predictor."
   ]
  },
  {
   "cell_type": "code",
   "execution_count": 1,
   "id": "2109bb91-74a6-4d42-85b0-686a5318bece",
   "metadata": {},
   "outputs": [],
   "source": [
    "import pickle\n",
    "import surprise\n",
    "from surprise import SVD, Dataset, Reader\n",
    "from surprise.model_selection import cross_validate, GridSearchCV\n",
    "import pandas as pd\n",
    "import random"
   ]
  },
  {
   "cell_type": "code",
   "execution_count": 2,
   "id": "acb190bb-0527-4402-a80f-063f3afaac6d",
   "metadata": {},
   "outputs": [],
   "source": [
    "userID2userNameMap = {}\n",
    "userName2userIDMap = {}\n",
    "\n",
    "animeID2animeNameMap = {}\n",
    "animeName2animeIDMap = {}\n",
    "\n",
    "with open('userName2userIDMap.pkl', 'rb') as f:\n",
    "    userName2userIDMap = pickle.load(f)\n",
    "\n",
    "with open('userID2userNameMap.pkl', 'rb') as f:\n",
    "    userID2userNameMap = pickle.load(f)\n",
    "\n",
    "\n",
    "with open('animeID2animeNameMap.pkl', 'rb') as f:\n",
    "    animeID2animeNameMap = pickle.load(f)\n",
    "\n",
    "with open('animeName2animeIDMap.pkl', 'rb') as f:\n",
    "    animeName2animeIDMap = pickle.load(f)"
   ]
  },
  {
   "cell_type": "code",
   "execution_count": 3,
   "id": "7cb97d50-4958-416c-94d9-47998a21f666",
   "metadata": {},
   "outputs": [],
   "source": [
    "df = None\n",
    "with open('df_custom.pkl', 'rb') as f:\n",
    "    df = pickle.load(f)"
   ]
  },
  {
   "cell_type": "code",
   "execution_count": 4,
   "id": "d10061e5-579d-4a98-927f-bcdebb705f4a",
   "metadata": {},
   "outputs": [],
   "source": [
    "user_ids = None\n",
    "with open('user_ids.pkl', 'rb') as f:\n",
    "    user_ids = pickle.load(f)"
   ]
  },
  {
   "cell_type": "code",
   "execution_count": 5,
   "id": "866aabba-f331-44f5-9b14-73148bd32616",
   "metadata": {},
   "outputs": [],
   "source": [
    "# the largest thing to open back up\n",
    "with open('grid.pkl', 'rb') as f:\n",
    "    grid = pickle.load(f)"
   ]
  },
  {
   "cell_type": "code",
   "execution_count": 6,
   "id": "93af6c01-78b6-47c0-ba95-a745f66b8fd4",
   "metadata": {},
   "outputs": [],
   "source": [
    "def get_top_n_recommendations(algo : surprise.model_selection.search.GridSearchCV, user_id : int, n : int=10):\n",
    "    # Get anime_ids that the user has NOT rated\n",
    "    tmp = df[df['user_id'] == user_id]\n",
    "    rated_anime_ids = tmp['anime_id']\n",
    "    all_anime_ids = pd.Series(data=df['anime_id'].unique())\n",
    "    not_rated_anime_ids = all_anime_ids[~all_anime_ids.isin(rated_anime_ids)]\n",
    "\n",
    "    # print(f'user {user_id} has rated {len(rated_anime_ids)} anime')\n",
    "    # print(f'so they have not rated: {len(not_rated_anime_ids)}')\n",
    "    \n",
    "    # Predict ratings for all anime the user hasn't rated\n",
    "    user_id = str(user_id)\n",
    "    predictions = [algo.predict(user_id, anime_id) for anime_id in not_rated_anime_ids]\n",
    "    \n",
    "    # Sort the predictions in descending order of the estimated rating\n",
    "    predictions.sort(key=lambda x: x.est, reverse=True)\n",
    "    \n",
    "    # Return the top N anime_ids\n",
    "    top_n_anime_ids = [pred.iid for pred in predictions[:n]]\n",
    "    return top_n_anime_ids\n"
   ]
  },
  {
   "cell_type": "code",
   "execution_count": 7,
   "id": "6a8f4b66-7722-4955-bac6-93a797560cec",
   "metadata": {},
   "outputs": [],
   "source": [
    "unique_user_ids = list(set(user_ids))"
   ]
  },
  {
   "cell_type": "code",
   "execution_count": 8,
   "id": "c85a9104-8e76-477c-a22a-5c951072dfec",
   "metadata": {},
   "outputs": [
    {
     "name": "stdout",
     "output_type": "stream",
     "text": [
      "Recommendations for bankai_wolf: \n",
      "\tDeath Note\n",
      "\tHowl no Ugoku Shiro\n",
      "\tKimi no Na wa.\n",
      "\tDragon Ball Z\n",
      "\tCode Geass: Hangyaku no Lelouch R2\n",
      "\n",
      "Recommendations for ErikkuSenpai: \n",
      "\tDeath Note\n",
      "\tHowl no Ugoku Shiro\n",
      "\tKimi no Na wa.\n",
      "\tMononoke Hime\n",
      "\tDragon Ball Z\n",
      "\n",
      "Recommendations for drugster88: \n",
      "\tKimi no Na wa.\n",
      "\tOne Punch Man\n",
      "\tMononoke Hime\n",
      "\tDragon Ball Z\n",
      "\tCode Geass: Hangyaku no Lelouch R2\n",
      "\n",
      "Recommendations for CeeJaii: \n",
      "\tSen to Chihiro no Kamikakushi\n",
      "\tHowl no Ugoku Shiro\n",
      "\tKimi no Na wa.\n",
      "\tMononoke Hime\n",
      "\tCode Geass: Hangyaku no Lelouch R2\n",
      "\n",
      "Recommendations for kozkii: \n",
      "\tOne Punch Man\n",
      "\tDragon Ball Z\n",
      "\tCode Geass: Hangyaku no Lelouch R2\n",
      "\tFinal Fantasy VII: Advent Children\n",
      "\tCode Geass: Hangyaku no Lelouch\n",
      "\n"
     ]
    }
   ],
   "source": [
    "for test_user_id in random.choices(unique_user_ids, k=5):\n",
    "    top_recommendations = get_top_n_recommendations(algo=grid, user_id=test_user_id, n=5)\n",
    "    print(f\"Recommendations for {userID2userNameMap[test_user_id]}: \")\n",
    "    for rec in top_recommendations:\n",
    "        print('\\t' + animeID2animeNameMap[rec])\n",
    "    print()"
   ]
  },
  {
   "cell_type": "code",
   "execution_count": 9,
   "id": "4b2a0325-a4ce-44d5-9721-d259b8dda8b2",
   "metadata": {},
   "outputs": [
    {
     "data": {
      "text/plain": [
       "[{'n_factors': 100, 'n_epochs': 20, 'lr_all': 0.005, 'reg_all': 0.02},\n",
       " {'n_factors': 100, 'n_epochs': 20, 'lr_all': 0.005, 'reg_all': 0.03},\n",
       " {'n_factors': 100, 'n_epochs': 20, 'lr_all': 0.001, 'reg_all': 0.02},\n",
       " {'n_factors': 100, 'n_epochs': 20, 'lr_all': 0.001, 'reg_all': 0.03},\n",
       " {'n_factors': 100, 'n_epochs': 30, 'lr_all': 0.005, 'reg_all': 0.02},\n",
       " {'n_factors': 100, 'n_epochs': 30, 'lr_all': 0.005, 'reg_all': 0.03},\n",
       " {'n_factors': 100, 'n_epochs': 30, 'lr_all': 0.001, 'reg_all': 0.02},\n",
       " {'n_factors': 100, 'n_epochs': 30, 'lr_all': 0.001, 'reg_all': 0.03},\n",
       " {'n_factors': 200, 'n_epochs': 20, 'lr_all': 0.005, 'reg_all': 0.02},\n",
       " {'n_factors': 200, 'n_epochs': 20, 'lr_all': 0.005, 'reg_all': 0.03},\n",
       " {'n_factors': 200, 'n_epochs': 20, 'lr_all': 0.001, 'reg_all': 0.02},\n",
       " {'n_factors': 200, 'n_epochs': 20, 'lr_all': 0.001, 'reg_all': 0.03},\n",
       " {'n_factors': 200, 'n_epochs': 30, 'lr_all': 0.005, 'reg_all': 0.02},\n",
       " {'n_factors': 200, 'n_epochs': 30, 'lr_all': 0.005, 'reg_all': 0.03},\n",
       " {'n_factors': 200, 'n_epochs': 30, 'lr_all': 0.001, 'reg_all': 0.02},\n",
       " {'n_factors': 200, 'n_epochs': 30, 'lr_all': 0.001, 'reg_all': 0.03},\n",
       " {'n_factors': 300, 'n_epochs': 20, 'lr_all': 0.005, 'reg_all': 0.02},\n",
       " {'n_factors': 300, 'n_epochs': 20, 'lr_all': 0.005, 'reg_all': 0.03},\n",
       " {'n_factors': 300, 'n_epochs': 20, 'lr_all': 0.001, 'reg_all': 0.02},\n",
       " {'n_factors': 300, 'n_epochs': 20, 'lr_all': 0.001, 'reg_all': 0.03},\n",
       " {'n_factors': 300, 'n_epochs': 30, 'lr_all': 0.005, 'reg_all': 0.02},\n",
       " {'n_factors': 300, 'n_epochs': 30, 'lr_all': 0.005, 'reg_all': 0.03},\n",
       " {'n_factors': 300, 'n_epochs': 30, 'lr_all': 0.001, 'reg_all': 0.02},\n",
       " {'n_factors': 300, 'n_epochs': 30, 'lr_all': 0.001, 'reg_all': 0.03}]"
      ]
     },
     "execution_count": 9,
     "metadata": {},
     "output_type": "execute_result"
    }
   ],
   "source": [
    "grid.param_combinations"
   ]
  },
  {
   "cell_type": "code",
   "execution_count": 10,
   "id": "60b9a95f-4f8f-4c8f-b42e-edba7def2dc9",
   "metadata": {},
   "outputs": [],
   "source": [
    "import matplotlib.pyplot as plt"
   ]
  },
  {
   "cell_type": "code",
   "execution_count": 11,
   "id": "6156489c-2c4b-4925-b786-09bad131832b",
   "metadata": {},
   "outputs": [
    {
     "data": {
      "image/png": "[encoded data removed]",
      "text/plain": [
       "<Figure size 640x480 with 1 Axes>"
      ]
     },
     "metadata": {},
     "output_type": "display_data"
    }
   ],
   "source": [
    "# Convert the results to a DataFrame\n",
    "results_df = pd.DataFrame.from_dict(grid.cv_results)\n",
    "\n",
    "# Assuming you were tuning 'n_epochs' and 'lr_all'\n",
    "for lr_all in results_df['param_lr_all'].unique():\n",
    "    subset = results_df[results_df['param_lr_all'] == lr_all]\n",
    "    plt.plot(subset['param_n_epochs'], subset['mean_test_rmse'], label=f'lr_all={lr_all}')\n",
    "\n",
    "plt.xlabel('n_epochs')\n",
    "plt.ylabel('Mean Test RMSE')\n",
    "plt.legend()\n",
    "plt.title('RMSE over n_epochs for different learning rates')\n",
    "plt.show()"
   ]
  },
  {
   "cell_type": "code",
   "execution_count": 12,
   "id": "1edfd6fb-46b1-44d5-8e5c-8ffd432f4e48",
   "metadata": {},
   "outputs": [
    {
     "data": {
      "text/plain": [
       "{'rmse': {'n_factors': 300, 'n_epochs': 20, 'lr_all': 0.001, 'reg_all': 0.03},\n",
       " 'mae': {'n_factors': 200, 'n_epochs': 20, 'lr_all': 0.001, 'reg_all': 0.03}}"
      ]
     },
     "execution_count": 12,
     "metadata": {},
     "output_type": "execute_result"
    }
   ],
   "source": [
    "# what is the best configuration?\n",
    "grid.best_params"
   ]
  },
  {
   "cell_type": "code",
   "execution_count": 13,
   "id": "7f3dec93-1e55-4f50-b440-01fe15b03c93",
   "metadata": {},
   "outputs": [
    {
     "data": {
      "text/plain": [
       "{'rmse': 2.8689316031185306, 'mae': 2.222182058129826}"
      ]
     },
     "execution_count": 13,
     "metadata": {},
     "output_type": "execute_result"
    }
   ],
   "source": [
    "grid.best_score"
   ]
  },
  {
   "cell_type": "code",
   "execution_count": 14,
   "id": "6451752c-9989-4bb3-a182-ab99d18151c8",
   "metadata": {
    "scrolled": true
   },
   "outputs": [
    {
     "data": {
      "text/plain": [
       "{'split0_test_rmse': array([3.10506141, 3.07047766, 2.8981944 , 2.87378598, 3.13230614,\n",
       "        3.09360585, 2.92786911, 2.89633865, 3.16307528, 3.10164798,\n",
       "        2.90992517, 2.87099091, 3.19789147, 3.13047438, 2.96103397,\n",
       "        2.90879428, 3.16097129, 3.08801719, 2.91483916, 2.86925125,\n",
       "        3.19401438, 3.11169819, 2.96771437, 2.90855387]),\n",
       " 'split1_test_rmse': array([3.10130517, 3.06821863, 2.89574624, 2.87208446, 3.12925974,\n",
       "        3.09278693, 2.92486555, 2.89470073, 3.16033312, 3.09963493,\n",
       "        2.90851569, 2.86975384, 3.19862933, 3.12692101, 2.95837449,\n",
       "        2.90832721, 3.1572627 , 3.08615183, 2.91353731, 2.86798571,\n",
       "        3.1916815 , 3.11028832, 2.96557128, 2.90773151]),\n",
       " 'split2_test_rmse': array([3.10245042, 3.06790056, 2.8965338 , 2.87281096, 3.12995064,\n",
       "        3.09215582, 2.92612544, 2.89448758, 3.16297782, 3.10190161,\n",
       "        2.90922833, 2.86963815, 3.19598141, 3.1293762 , 2.95895247,\n",
       "        2.9076277 , 3.15986978, 3.08669795, 2.9121713 , 2.86858203,\n",
       "        3.19296767, 3.11028792, 2.96506162, 2.90836683]),\n",
       " 'split3_test_rmse': array([3.10232491, 3.06981753, 2.89660633, 2.87200458, 3.13039272,\n",
       "        3.09282675, 2.92707022, 2.8950594 , 3.16211225, 3.10102892,\n",
       "        2.90934612, 2.86989913, 3.19617886, 3.12791328, 2.95912568,\n",
       "        2.90867934, 3.15895614, 3.08731056, 2.9128258 , 2.86882441,\n",
       "        3.19229442, 3.11117374, 2.96691547, 2.90847016]),\n",
       " 'split4_test_rmse': array([3.1031292 , 3.068694  , 2.89615373, 2.87271314, 3.13060188,\n",
       "        3.09160634, 2.92641862, 2.89559128, 3.16234376, 3.10097205,\n",
       "        2.90944562, 2.87039663, 3.19929031, 3.13012679, 2.96072069,\n",
       "        2.90869775, 3.15990432, 3.08803704, 2.91432146, 2.87001462,\n",
       "        3.19287929, 3.11148164, 2.96715524, 2.90946935]),\n",
       " 'mean_test_rmse': array([3.10285422, 3.06902168, 2.8966469 , 2.87267982, 3.13050222,\n",
       "        3.09259634, 2.92646979, 2.89523553, 3.16216845, 3.1010371 ,\n",
       "        2.90929219, 2.87013573, 3.19759428, 3.12896233, 2.95964146,\n",
       "        2.90842526, 3.15939285, 3.08724292, 2.91353901, 2.8689316 ,\n",
       "        3.19276745, 3.11098596, 2.9664836 , 2.90851834]),\n",
       " 'std_test_rmse': array([0.0012482 , 0.00097596, 0.0008323 , 0.00064067, 0.00101233,\n",
       "        0.00067568, 0.00100134, 0.00066632, 0.0009879 , 0.00078625,\n",
       "        0.00045479, 0.00049976, 0.00131461, 0.00134767, 0.00104401,\n",
       "        0.00042912, 0.00124168, 0.00073786, 0.00096767, 0.00067875,\n",
       "        0.00077595, 0.00059366, 0.00100068, 0.00055679]),\n",
       " 'rank_test_rmse': array([17, 13,  5,  3, 20, 15, 10,  4, 22, 16,  8,  2, 24, 19, 11,  6, 21,\n",
       "        14,  9,  1, 23, 18, 12,  7]),\n",
       " 'split0_test_mae': array([2.36162544, 2.34834279, 2.23351163, 2.22712667, 2.38136748,\n",
       "        2.36662303, 2.23897603, 2.22679313, 2.40665704, 2.37555496,\n",
       "        2.24048491, 2.22341367, 2.434006  , 2.39887327, 2.26180782,\n",
       "        2.23511385, 2.41579283, 2.37524986, 2.24737452, 2.22340642,\n",
       "        2.44378257, 2.39758528, 2.2724667 , 2.23930114]),\n",
       " 'split1_test_mae': array([2.35821677, 2.34671522, 2.23145654, 2.22550768, 2.37905876,\n",
       "        2.36573227, 2.23628821, 2.22525839, 2.40402197, 2.37358809,\n",
       "        2.23912506, 2.22157683, 2.43357134, 2.39608507, 2.25979829,\n",
       "        2.2341708 , 2.41231736, 2.37378579, 2.2456733 , 2.22210658,\n",
       "        2.44153065, 2.39637708, 2.27106821, 2.23799872]),\n",
       " 'split2_test_mae': array([2.35869115, 2.34627431, 2.23257359, 2.22634165, 2.37962151,\n",
       "        2.36540042, 2.23757447, 2.22526285, 2.40668058, 2.37525851,\n",
       "        2.2397267 , 2.22183972, 2.43211452, 2.39807996, 2.26031197,\n",
       "        2.23396855, 2.4148582 , 2.37411414, 2.24511979, 2.22293106,\n",
       "        2.44274892, 2.39647517, 2.27106973, 2.23916843]),\n",
       " 'split3_test_mae': array([2.35860324, 2.34750026, 2.2324106 , 2.22551893, 2.37959582,\n",
       "        2.365673  , 2.23814546, 2.22581298, 2.40528149, 2.37514306,\n",
       "        2.23932166, 2.22189951, 2.43196266, 2.39735506, 2.26052333,\n",
       "        2.23486995, 2.41447612, 2.37473943, 2.24559352, 2.22304036,\n",
       "        2.44173173, 2.39720171, 2.27223799, 2.23935989]),\n",
       " 'split4_test_mae': array([2.35904656, 2.34660718, 2.23165581, 2.22584464, 2.37965225,\n",
       "        2.36512292, 2.23750373, 2.22550431, 2.40583471, 2.37407705,\n",
       "        2.23974523, 2.22218057, 2.43442736, 2.39888066, 2.26127714,\n",
       "        2.23424093, 2.41444295, 2.37465214, 2.24631457, 2.22359429,\n",
       "        2.44260329, 2.39714478, 2.27209587, 2.23946404]),\n",
       " 'mean_test_mae': array([2.35923663, 2.34708795, 2.23232163, 2.22606791, 2.37985916,\n",
       "        2.36571033, 2.23769758, 2.22572633, 2.40569516, 2.37472433,\n",
       "        2.23968071, 2.22218206, 2.43321638, 2.39785481, 2.26074371,\n",
       "        2.23447282, 2.41437749, 2.37450827, 2.24601514, 2.22301574,\n",
       "        2.44247943, 2.3969568 , 2.2717877 , 2.23905844]),\n",
       " 'std_test_mae': array([0.00122322, 0.00074521, 0.00073201, 0.00061008, 0.0007854 ,\n",
       "        0.00050517, 0.00088024, 0.00057073, 0.00098858, 0.00075639,\n",
       "        0.00046705, 0.00064501, 0.00100019, 0.00105091, 0.00071354,\n",
       "        0.00043998, 0.00113951, 0.00051018, 0.00077895, 0.00051414,\n",
       "        0.00080565, 0.00046008, 0.00059865, 0.0005384 ]),\n",
       " 'rank_test_mae': array([14, 13,  5,  4, 18, 15,  7,  3, 21, 17,  9,  1, 23, 20, 11,  6, 22,\n",
       "        16, 10,  2, 24, 19, 12,  8]),\n",
       " 'mean_fit_time': array([103.09940658, 105.24601011, 117.84835982, 112.09088311,\n",
       "        165.41825724, 162.44147911, 165.17131467, 170.47901487,\n",
       "        188.5709198 , 192.80253067, 189.2799459 , 198.09014378,\n",
       "        279.21501355, 277.80458746, 288.05714412, 278.57458334,\n",
       "        277.80041122, 288.65072055, 278.02422762, 280.39201064,\n",
       "        419.53974538, 410.37507873, 412.07704191, 428.72874136]),\n",
       " 'std_fit_time': array([ 5.45130571,  5.62237546, 18.60783287, 18.28040468, 20.90471868,\n",
       "        16.22790712, 20.8342544 , 21.74242985, 15.3934438 , 19.42240676,\n",
       "        17.41490578, 18.87057683, 21.94848162, 19.07433076, 21.25156534,\n",
       "        20.21851406, 17.60352186, 20.17065893, 18.14048365, 20.41761889,\n",
       "        21.36501208, 18.89870013, 20.87806941, 22.42280855]),\n",
       " 'mean_test_time': array([33.59998779, 33.48311238, 30.34956684, 29.94770284, 30.98176646,\n",
       "        33.07430778, 28.84034829, 32.30278926, 34.66733093, 31.5907774 ,\n",
       "        31.37711735, 34.55390353, 29.3478909 , 32.54070845, 30.90931401,\n",
       "        28.82033119, 34.87756805, 30.48507195, 33.56949725, 31.58478312,\n",
       "        30.39369612, 33.15930257, 30.88495846, 31.36598768]),\n",
       " 'std_test_time': array([1.11034029, 2.49108419, 4.51739875, 1.77996013, 3.44720801,\n",
       "        4.05287412, 1.18047749, 5.20738558, 6.53107196, 2.49864355,\n",
       "        2.29247263, 6.82875412, 1.25699301, 4.98769063, 0.35526783,\n",
       "        0.90193745, 6.26630485, 0.8683009 , 6.51639194, 0.22461615,\n",
       "        1.52958854, 4.27854824, 1.33017344, 1.85609285]),\n",
       " 'params': [{'n_factors': 100,\n",
       "   'n_epochs': 20,\n",
       "   'lr_all': 0.005,\n",
       "   'reg_all': 0.02},\n",
       "  {'n_factors': 100, 'n_epochs': 20, 'lr_all': 0.005, 'reg_all': 0.03},\n",
       "  {'n_factors': 100, 'n_epochs': 20, 'lr_all': 0.001, 'reg_all': 0.02},\n",
       "  {'n_factors': 100, 'n_epochs': 20, 'lr_all': 0.001, 'reg_all': 0.03},\n",
       "  {'n_factors': 100, 'n_epochs': 30, 'lr_all': 0.005, 'reg_all': 0.02},\n",
       "  {'n_factors': 100, 'n_epochs': 30, 'lr_all': 0.005, 'reg_all': 0.03},\n",
       "  {'n_factors': 100, 'n_epochs': 30, 'lr_all': 0.001, 'reg_all': 0.02},\n",
       "  {'n_factors': 100, 'n_epochs': 30, 'lr_all': 0.001, 'reg_all': 0.03},\n",
       "  {'n_factors': 200, 'n_epochs': 20, 'lr_all': 0.005, 'reg_all': 0.02},\n",
       "  {'n_factors': 200, 'n_epochs': 20, 'lr_all': 0.005, 'reg_all': 0.03},\n",
       "  {'n_factors': 200, 'n_epochs': 20, 'lr_all': 0.001, 'reg_all': 0.02},\n",
       "  {'n_factors': 200, 'n_epochs': 20, 'lr_all': 0.001, 'reg_all': 0.03},\n",
       "  {'n_factors': 200, 'n_epochs': 30, 'lr_all': 0.005, 'reg_all': 0.02},\n",
       "  {'n_factors': 200, 'n_epochs': 30, 'lr_all': 0.005, 'reg_all': 0.03},\n",
       "  {'n_factors': 200, 'n_epochs': 30, 'lr_all': 0.001, 'reg_all': 0.02},\n",
       "  {'n_factors': 200, 'n_epochs': 30, 'lr_all': 0.001, 'reg_all': 0.03},\n",
       "  {'n_factors': 300, 'n_epochs': 20, 'lr_all': 0.005, 'reg_all': 0.02},\n",
       "  {'n_factors': 300, 'n_epochs': 20, 'lr_all': 0.005, 'reg_all': 0.03},\n",
       "  {'n_factors': 300, 'n_epochs': 20, 'lr_all': 0.001, 'reg_all': 0.02},\n",
       "  {'n_factors': 300, 'n_epochs': 20, 'lr_all': 0.001, 'reg_all': 0.03},\n",
       "  {'n_factors': 300, 'n_epochs': 30, 'lr_all': 0.005, 'reg_all': 0.02},\n",
       "  {'n_factors': 300, 'n_epochs': 30, 'lr_all': 0.005, 'reg_all': 0.03},\n",
       "  {'n_factors': 300, 'n_epochs': 30, 'lr_all': 0.001, 'reg_all': 0.02},\n",
       "  {'n_factors': 300, 'n_epochs': 30, 'lr_all': 0.001, 'reg_all': 0.03}],\n",
       " 'param_n_factors': [100,\n",
       "  100,\n",
       "  100,\n",
       "  100,\n",
       "  100,\n",
       "  100,\n",
       "  100,\n",
       "  100,\n",
       "  200,\n",
       "  200,\n",
       "  200,\n",
       "  200,\n",
       "  200,\n",
       "  200,\n",
       "  200,\n",
       "  200,\n",
       "  300,\n",
       "  300,\n",
       "  300,\n",
       "  300,\n",
       "  300,\n",
       "  300,\n",
       "  300,\n",
       "  300],\n",
       " 'param_n_epochs': [20,\n",
       "  20,\n",
       "  20,\n",
       "  20,\n",
       "  30,\n",
       "  30,\n",
       "  30,\n",
       "  30,\n",
       "  20,\n",
       "  20,\n",
       "  20,\n",
       "  20,\n",
       "  30,\n",
       "  30,\n",
       "  30,\n",
       "  30,\n",
       "  20,\n",
       "  20,\n",
       "  20,\n",
       "  20,\n",
       "  30,\n",
       "  30,\n",
       "  30,\n",
       "  30],\n",
       " 'param_lr_all': [0.005,\n",
       "  0.005,\n",
       "  0.001,\n",
       "  0.001,\n",
       "  0.005,\n",
       "  0.005,\n",
       "  0.001,\n",
       "  0.001,\n",
       "  0.005,\n",
       "  0.005,\n",
       "  0.001,\n",
       "  0.001,\n",
       "  0.005,\n",
       "  0.005,\n",
       "  0.001,\n",
       "  0.001,\n",
       "  0.005,\n",
       "  0.005,\n",
       "  0.001,\n",
       "  0.001,\n",
       "  0.005,\n",
       "  0.005,\n",
       "  0.001,\n",
       "  0.001],\n",
       " 'param_reg_all': [0.02,\n",
       "  0.03,\n",
       "  0.02,\n",
       "  0.03,\n",
       "  0.02,\n",
       "  0.03,\n",
       "  0.02,\n",
       "  0.03,\n",
       "  0.02,\n",
       "  0.03,\n",
       "  0.02,\n",
       "  0.03,\n",
       "  0.02,\n",
       "  0.03,\n",
       "  0.02,\n",
       "  0.03,\n",
       "  0.02,\n",
       "  0.03,\n",
       "  0.02,\n",
       "  0.03,\n",
       "  0.02,\n",
       "  0.03,\n",
       "  0.02,\n",
       "  0.03]}"
      ]
     },
     "execution_count": 14,
     "metadata": {},
     "output_type": "execute_result"
    }
   ],
   "source": [
    "grid.cv_results"
   ]
  }
 ],
 "metadata": {
  "kernelspec": {
   "display_name": "Python 3 (ipykernel)",
   "language": "python",
   "name": "python3"
  },
  "language_info": {
   "codemirror_mode": {
    "name": "ipython",
    "version": 3
   },
   "file_extension": ".py",
   "mimetype": "text/x-python",
   "name": "python",
   "nbconvert_exporter": "python",
   "pygments_lexer": "ipython3",
   "version": "3.10.13"
  }
 },
 "nbformat": 4,
 "nbformat_minor": 5
}
