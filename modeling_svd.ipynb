{
 "cells": [
  {
   "cell_type": "code",
   "execution_count": 18,
   "id": "2109bb91-74a6-4d42-85b0-686a5318bece",
   "metadata": {},
   "outputs": [],
   "source": [
    "import pickle\n",
    "from surprise import SVD, Dataset, Reader\n",
    "from surprise.model_selection import cross_validate, GridSearchCV"
   ]
  },
  {
   "cell_type": "code",
   "execution_count": 2,
   "id": "acb190bb-0527-4402-a80f-063f3afaac6d",
   "metadata": {},
   "outputs": [],
   "source": [
    "userID2userNameMap = {}\n",
    "userName2userIDMap = {}\n",
    "\n",
    "animeID2animeNameMap = {}\n",
    "animeName2animeIDMap = {}\n",
    "\n",
    "with open('userName2userIDMap.pkl', 'rb') as f:\n",
    "    userName2userIDMap = pickle.load(f)\n",
    "\n",
    "with open('userID2userNameMap.pkl', 'rb') as f:\n",
    "    userID2userNameMap = pickle.load(f)\n",
    "\n",
    "\n",
    "with open('animeID2animeNameMap.pkl', 'rb') as f:\n",
    "    animeID2animeNameMap = pickle.load(f)\n",
    "\n",
    "with open('animeName2animeIDMap.pkl', 'rb') as f:\n",
    "    animeName2animeIDMap = pickle.load(f)"
   ]
  },
  {
   "cell_type": "code",
   "execution_count": null,
   "id": "7cb97d50-4958-416c-94d9-47998a21f666",
   "metadata": {},
   "outputs": [],
   "source": [
    "df = None\n",
    "with open('df_custom.pkl', 'rb') as f:\n",
    "    df = pickle.load(f)"
   ]
  },
  {
   "cell_type": "code",
   "execution_count": null,
   "id": "d10061e5-579d-4a98-927f-bcdebb705f4a",
   "metadata": {},
   "outputs": [],
   "source": [
    "user_ids = None\n",
    "with open('user_ids.pkl', 'rb') as f:\n",
    "    user_ids = pickle.load(f)"
   ]
  },
  {
   "cell_type": "code",
   "execution_count": 19,
   "id": "93eeaf71-d199-43ae-b1bf-442471698081",
   "metadata": {},
   "outputs": [],
   "source": [
    "# Define a Reader object to parse the file\n",
    "reader = Reader(rating_scale=(1, 10))  # Assuming scores are from 1 to 10 \n",
    "\n",
    "# Load the dataset\n",
    "data = Dataset.load_from_df(df[['user_id', 'anime_id', 'score']], reader)"
   ]
  },
  {
   "cell_type": "code",
   "execution_count": 21,
   "id": "d65afb2c-9b91-4f4f-9400-30a3e2e7401d",
   "metadata": {},
   "outputs": [],
   "source": [
    "# SVD\n",
    "# https://surprise.readthedocs.io/en/stable/matrix_factorization.html#surprise.prediction_algorithms.matrix_factorization.SVD\n",
    "\n",
    "# GridSearchCV\n",
    "# https://surprise.readthedocs.io/en/stable/model_selection.html#surprise.model_selection.search.GridSearchCV\n",
    "# https://scikit-learn.org/stable/modules/generated/sklearn.model_selection.GridSearchCV.html\n",
    "\n",
    "parameters = {\n",
    "    'n_factors': [100, 200, 300],\n",
    "    'n_epochs': [20, 30],\n",
    "    'lr_all': [0.005, 0.001],\n",
    "    'reg_all': [0.02, 0.03],\n",
    "}\n",
    "\n",
    "grid = GridSearchCV(algo_class = SVD, \n",
    "                   param_grid = parameters,\n",
    "                   measures = ['rmse', 'mae'],\n",
    "                   n_jobs = 2,\n",
    "                   cv = 5,\n",
    "                   refit = True)"
   ]
  },
  {
   "cell_type": "code",
   "execution_count": null,
   "id": "ea0be9b7-001b-4eb4-934f-1cf1c7b0bb41",
   "metadata": {},
   "outputs": [],
   "source": [
    "grid.fit(data)"
   ]
  },
  {
   "cell_type": "code",
   "execution_count": null,
   "id": "93af6c01-78b6-47c0-ba95-a745f66b8fd4",
   "metadata": {},
   "outputs": [],
   "source": [
    "def get_top_n_recommendations(algo, user_id, n=10):\n",
    "    # Assume we have a list of all anime_ids in the dataset\n",
    "    all_anime_ids = set(df['anime_id'].unique())\n",
    "    \n",
    "    # Get the list of anime_ids that the user has already rated\n",
    "    rated_anime_ids = set(df[df['user_id'] == user_id]['anime_id'].unique())\n",
    "    \n",
    "    # Predict ratings for all anime the user hasn't rated\n",
    "    predictions = [algo.predict(user_id, anime_id) for anime_id in all_anime_ids if anime_id not in rated_anime_ids]\n",
    "\n",
    "    # print(predictions)\n",
    "    \n",
    "    # Sort the predictions in descending order of the estimated rating\n",
    "    predictions.sort(key=lambda x: x.est, reverse=True)\n",
    "    \n",
    "    # Return the top N anime_ids\n",
    "    top_n_anime_ids = [pred.iid for pred in predictions[:n]]\n",
    "    return top_n_anime_ids\n"
   ]
  },
  {
   "cell_type": "code",
   "execution_count": null,
   "id": "6a8f4b66-7722-4955-bac6-93a797560cec",
   "metadata": {},
   "outputs": [],
   "source": [
    "unique_user_ids = list(set(user_ids))\n",
    "unique_user_ids[:5]"
   ]
  },
  {
   "cell_type": "code",
   "execution_count": null,
   "id": "c85a9104-8e76-477c-a22a-5c951072dfec",
   "metadata": {},
   "outputs": [],
   "source": [
    "for test_user_id in unique_user_ids[:5]:\n",
    "    top_recommendations = get_top_n_recommendations(algo=grid, user_id=str(test_user_id), n=10)\n",
    "    print(f\"Recommendations for {userID2userNameMap[test_user_id]}: \")\n",
    "    for rec in top_recommendations:\n",
    "        print(animeID2animeNameMap[rec])\n",
    "    print()"
   ]
  }
 ],
 "metadata": {
  "kernelspec": {
   "display_name": "Python 3 (ipykernel)",
   "language": "python",
   "name": "python3"
  },
  "language_info": {
   "codemirror_mode": {
    "name": "ipython",
    "version": 3
   },
   "file_extension": ".py",
   "mimetype": "text/x-python",
   "name": "python",
   "nbconvert_exporter": "python",
   "pygments_lexer": "ipython3",
   "version": "3.10.13"
  }
 },
 "nbformat": 4,
 "nbformat_minor": 5
}
