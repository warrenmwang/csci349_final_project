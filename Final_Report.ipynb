{
 "cells": [
  {
   "cell_type": "markdown",
   "id": "ae636c6a-e039-4ee2-9adb-aeb806ce54f3",
   "metadata": {},
   "source": [
    "## Introduction\n",
    "We have a large dataset on the anime watchers on the MyAnimeList website. \n",
    "In this notebook, we will explore and discuss the findings of trying to create an Anime recommendation system from the data.\n",
    "\n",
    "## Data\n",
    "In order to solve our objective, we are making use of a Kaggle dataset that essentially includes the three following things sourced from the website MyAnimeList (an online website community/database for people who watch anime):\n",
    "- User List: a snapshot list of all the users in their database and some profile data, including but not limited to their birthdate, gender, location, number of anime watched, etc.\n",
    "- Anime List: a snapshot list of all anime in their database when this dataset was curated\n",
    "- Anime-lists List: a snapshot of the lists of anime each User has interacted with in some way (marked as to watch, watched in entirety or partly, etc.), their ratings, how many comments they left on them, etc.\n",
    "There is a lot of data here to inspect.\n"
   ]
  },
  {
   "cell_type": "markdown",
   "id": "bc131768-b022-4e55-acee-d4a16d3e9451",
   "metadata": {},
   "source": [
    "## Data Preparation"
   ]
  },
  {
   "cell_type": "code",
   "execution_count": null,
   "id": "b488b6e1-3557-4cd4-a61f-1a89cdd8ccd1",
   "metadata": {},
   "outputs": [],
   "source": []
  },
  {
   "cell_type": "markdown",
   "id": "518e4b1a-c939-4401-be40-89d123794527",
   "metadata": {},
   "source": [
    "## Modeling"
   ]
  },
  {
   "cell_type": "markdown",
   "id": "53ea9c53-677e-4e02-b969-92b7a1a37ada",
   "metadata": {},
   "source": [
    "## Performance Results"
   ]
  },
  {
   "cell_type": "markdown",
   "id": "099a1e07-bc77-4aea-9fdd-7f325e6b47b9",
   "metadata": {},
   "source": [
    "## Discussion"
   ]
  },
  {
   "cell_type": "markdown",
   "id": "554076a3-f0f4-45ad-a5fb-6ec47a299ec3",
   "metadata": {},
   "source": [
    "## Conclusions"
   ]
  }
 ],
 "metadata": {
  "kernelspec": {
   "display_name": "Python 3 (ipykernel)",
   "language": "python",
   "name": "python3"
  },
  "language_info": {
   "codemirror_mode": {
    "name": "ipython",
    "version": 3
   },
   "file_extension": ".py",
   "mimetype": "text/x-python",
   "name": "python",
   "nbconvert_exporter": "python",
   "pygments_lexer": "ipython3",
   "version": "3.10.13"
  }
 },
 "nbformat": 4,
 "nbformat_minor": 5
}
