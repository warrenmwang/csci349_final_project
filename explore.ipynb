{
 "cells": [
  {
   "cell_type": "code",
   "execution_count": 1,
   "id": "f987d5a3-2af9-4f34-9bc8-0d01499a6714",
   "metadata": {},
   "outputs": [
    {
     "name": "stderr",
     "output_type": "stream",
     "text": [
      "/tmp/ipykernel_732116/2228120841.py:3: DeprecationWarning: \n",
      "Pyarrow will become a required dependency of pandas in the next major release of pandas (pandas 3.0),\n",
      "(to allow more performant data types, such as the Arrow string type, and better interoperability with other libraries)\n",
      "but was not found to be installed on your system.\n",
      "If this would cause problems for you,\n",
      "please provide us feedback at https://github.com/pandas-dev/pandas/issues/54466\n",
      "        \n",
      "  import pandas as pd\n"
     ]
    }
   ],
   "source": [
    "import matplotlib.pyplot as plt\n",
    "import numpy as np\n",
    "import pandas as pd\n",
    "import seaborn as sns"
   ]
  },
  {
   "cell_type": "markdown",
   "id": "6cc9ac05",
   "metadata": {},
   "source": [
    "## EDA\n",
    "\n",
    "Let's learn about our users."
   ]
  },
  {
   "cell_type": "code",
   "execution_count": 19,
   "id": "30f3ceed",
   "metadata": {},
   "outputs": [
    {
     "name": "stdout",
     "output_type": "stream",
     "text": [
      "<class 'pandas.core.frame.DataFrame'>\n",
      "RangeIndex: 108711 entries, 0 to 108710\n",
      "Data columns (total 17 columns):\n",
      " #   Column                    Non-Null Count   Dtype  \n",
      "---  ------                    --------------   -----  \n",
      " 0   username                  108710 non-null  object \n",
      " 1   user_id                   108711 non-null  int64  \n",
      " 2   user_watching             108711 non-null  int64  \n",
      " 3   user_completed            108711 non-null  int64  \n",
      " 4   user_onhold               108711 non-null  int64  \n",
      " 5   user_dropped              108711 non-null  int64  \n",
      " 6   user_plantowatch          108711 non-null  int64  \n",
      " 7   user_days_spent_watching  108711 non-null  float64\n",
      " 8   gender                    108711 non-null  object \n",
      " 9   location                  108706 non-null  object \n",
      " 10  birth_date                108711 non-null  object \n",
      " 11  access_rank               0 non-null       float64\n",
      " 12  join_date                 108711 non-null  object \n",
      " 13  last_online               108711 non-null  object \n",
      " 14  stats_mean_score          108711 non-null  float64\n",
      " 15  stats_rewatched           108711 non-null  float64\n",
      " 16  stats_episodes            108711 non-null  int64  \n",
      "dtypes: float64(4), int64(7), object(6)\n",
      "memory usage: 14.1+ MB\n"
     ]
    }
   ],
   "source": [
    "df_users_cleaned = pd.read_csv(\"./data/users_cleaned.csv\")\n",
    "df_users_cleaned.info()"
   ]
  },
  {
   "cell_type": "code",
   "execution_count": 20,
   "id": "adab7af1",
   "metadata": {},
   "outputs": [
    {
     "data": {
      "text/plain": [
       "gender\n",
       "Male          70880\n",
       "Female        37330\n",
       "Non-Binary      501\n",
       "Name: count, dtype: int64"
      ]
     },
     "execution_count": 20,
     "metadata": {},
     "output_type": "execute_result"
    }
   ],
   "source": [
    "df_users_cleaned['gender'].value_counts()"
   ]
  },
  {
   "cell_type": "code",
   "execution_count": 21,
   "id": "069fc6e6",
   "metadata": {},
   "outputs": [
    {
     "data": {
      "text/plain": [
       "location\n",
       "Poland                      1656\n",
       "Germany                     1132\n",
       "Brazil                      1022\n",
       "Canada                       900\n",
       "California                   848\n",
       "                            ... \n",
       "Melacca, Malaysia              1\n",
       "not important                  1\n",
       "Mexico city, Mexico            1\n",
       "Vancouver, Washington486       1\n",
       "nhollywood, california         1\n",
       "Name: count, Length: 40438, dtype: int64"
      ]
     },
     "execution_count": 21,
     "metadata": {},
     "output_type": "execute_result"
    }
   ],
   "source": [
    "df_users_cleaned['location'].value_counts()"
   ]
  },
  {
   "cell_type": "code",
   "execution_count": 23,
   "id": "2dbf1675",
   "metadata": {},
   "outputs": [
    {
     "data": {
      "text/plain": [
       "username                               karthiga\n",
       "user_id                                 2255153\n",
       "user_watching                                 3\n",
       "user_completed                               49\n",
       "user_onhold                                   1\n",
       "user_dropped                                  0\n",
       "user_plantowatch                              0\n",
       "user_days_spent_watching              55.091667\n",
       "gender                                   Female\n",
       "location                        Chennai, India \n",
       "birth_date                  1990-04-29 00:00:00\n",
       "access_rank                                 NaN\n",
       "join_date                   2013-03-03 00:00:00\n",
       "last_online                 2014-02-04 01:32:00\n",
       "stats_mean_score                           7.43\n",
       "stats_rewatched                             0.0\n",
       "stats_episodes                             3391\n",
       "Name: 0, dtype: object"
      ]
     },
     "execution_count": 23,
     "metadata": {},
     "output_type": "execute_result"
    }
   ],
   "source": [
    "df_users_cleaned.iloc[0]"
   ]
  },
  {
   "cell_type": "code",
   "execution_count": 12,
   "id": "2f7234c3",
   "metadata": {},
   "outputs": [
    {
     "name": "stdout",
     "output_type": "stream",
     "text": [
      "<class 'pandas.core.frame.DataFrame'>\n",
      "RangeIndex: 31284030 entries, 0 to 31284029\n",
      "Data columns (total 11 columns):\n",
      " #   Column               Dtype  \n",
      "---  ------               -----  \n",
      " 0   username             object \n",
      " 1   anime_id             int64  \n",
      " 2   my_watched_episodes  int64  \n",
      " 3   my_start_date        object \n",
      " 4   my_finish_date       object \n",
      " 5   my_score             int64  \n",
      " 6   my_status            int64  \n",
      " 7   my_rewatching        float64\n",
      " 8   my_rewatching_ep     int64  \n",
      " 9   my_last_updated      object \n",
      " 10  my_tags              object \n",
      "dtypes: float64(1), int64(5), object(5)\n",
      "memory usage: 2.6+ GB\n"
     ]
    }
   ],
   "source": [
    "# user data doesn't have the list of anime they watch, let's explore the other csvs\n",
    "\n",
    "df_anime_lists_cleaned = pd.read_csv(\"./data/animelists_cleaned.csv\")\n",
    "df_anime_lists_cleaned.info()"
   ]
  },
  {
   "cell_type": "code",
   "execution_count": 17,
   "id": "71055372",
   "metadata": {},
   "outputs": [
    {
     "data": {
      "text/plain": [
       "username                          karthiga\n",
       "anime_id                                21\n",
       "my_watched_episodes                    586\n",
       "my_start_date                   0000-00-00\n",
       "my_finish_date                  0000-00-00\n",
       "my_score                                 9\n",
       "my_status                                1\n",
       "my_rewatching                          NaN\n",
       "my_rewatching_ep                         0\n",
       "my_last_updated        2013-03-03 10:52:53\n",
       "my_tags                                NaN\n",
       "Name: 0, dtype: object"
      ]
     },
     "execution_count": 17,
     "metadata": {},
     "output_type": "execute_result"
    }
   ],
   "source": [
    "df_anime_lists_cleaned.iloc[0]\n",
    "# we can see an anime_id and how many of this type of anime they watched...including what they rated it.\n",
    "# this is good. now we just need to find the mapping from the anime_id to the anime name in english or japanese."
   ]
  },
  {
   "cell_type": "code",
   "execution_count": 25,
   "id": "dedb233d",
   "metadata": {},
   "outputs": [
    {
     "name": "stdout",
     "output_type": "stream",
     "text": [
      "<class 'pandas.core.frame.DataFrame'>\n",
      "RangeIndex: 6668 entries, 0 to 6667\n",
      "Data columns (total 33 columns):\n",
      " #   Column           Non-Null Count  Dtype  \n",
      "---  ------           --------------  -----  \n",
      " 0   anime_id         6668 non-null   int64  \n",
      " 1   title            6668 non-null   object \n",
      " 2   title_english    3438 non-null   object \n",
      " 3   title_japanese   6663 non-null   object \n",
      " 4   title_synonyms   4481 non-null   object \n",
      " 5   image_url        6666 non-null   object \n",
      " 6   type             6668 non-null   object \n",
      " 7   source           6668 non-null   object \n",
      " 8   episodes         6668 non-null   int64  \n",
      " 9   status           6668 non-null   object \n",
      " 10  airing           6668 non-null   bool   \n",
      " 11  aired_string     6668 non-null   object \n",
      " 12  aired            6668 non-null   object \n",
      " 13  duration         6668 non-null   object \n",
      " 14  rating           6586 non-null   object \n",
      " 15  score            6668 non-null   float64\n",
      " 16  scored_by        6668 non-null   int64  \n",
      " 17  rank             6312 non-null   float64\n",
      " 18  popularity       6668 non-null   int64  \n",
      " 19  members          6668 non-null   int64  \n",
      " 20  favorites        6668 non-null   int64  \n",
      " 21  background       813 non-null    object \n",
      " 22  premiered        2966 non-null   object \n",
      " 23  broadcast        2980 non-null   object \n",
      " 24  related          6668 non-null   object \n",
      " 25  producer         4402 non-null   object \n",
      " 26  licensor         2787 non-null   object \n",
      " 27  studio           6668 non-null   object \n",
      " 28  genre            6664 non-null   object \n",
      " 29  opening_theme    6668 non-null   object \n",
      " 30  ending_theme     6668 non-null   object \n",
      " 31  duration_min     6668 non-null   float64\n",
      " 32  aired_from_year  6668 non-null   float64\n",
      "dtypes: bool(1), float64(4), int64(6), object(22)\n",
      "memory usage: 1.6+ MB\n"
     ]
    }
   ],
   "source": [
    "df_anime_cleaned = pd.read_csv(\"./data/anime_cleaned.csv\")\n",
    "df_anime_cleaned.info()"
   ]
  },
  {
   "cell_type": "code",
   "execution_count": 26,
   "id": "4d91c74b",
   "metadata": {},
   "outputs": [
    {
     "data": {
      "text/html": [
       "<div>\n",
       "<style scoped>\n",
       "    .dataframe tbody tr th:only-of-type {\n",
       "        vertical-align: middle;\n",
       "    }\n",
       "\n",
       "    .dataframe tbody tr th {\n",
       "        vertical-align: top;\n",
       "    }\n",
       "\n",
       "    .dataframe thead th {\n",
       "        text-align: right;\n",
       "    }\n",
       "</style>\n",
       "<table border=\"1\" class=\"dataframe\">\n",
       "  <thead>\n",
       "    <tr style=\"text-align: right;\">\n",
       "      <th></th>\n",
       "      <th>anime_id</th>\n",
       "      <th>title</th>\n",
       "      <th>title_english</th>\n",
       "      <th>title_japanese</th>\n",
       "      <th>title_synonyms</th>\n",
       "      <th>image_url</th>\n",
       "      <th>type</th>\n",
       "      <th>source</th>\n",
       "      <th>episodes</th>\n",
       "      <th>status</th>\n",
       "      <th>...</th>\n",
       "      <th>broadcast</th>\n",
       "      <th>related</th>\n",
       "      <th>producer</th>\n",
       "      <th>licensor</th>\n",
       "      <th>studio</th>\n",
       "      <th>genre</th>\n",
       "      <th>opening_theme</th>\n",
       "      <th>ending_theme</th>\n",
       "      <th>duration_min</th>\n",
       "      <th>aired_from_year</th>\n",
       "    </tr>\n",
       "  </thead>\n",
       "  <tbody>\n",
       "    <tr>\n",
       "      <th>34</th>\n",
       "      <td>21</td>\n",
       "      <td>One Piece</td>\n",
       "      <td>One Piece</td>\n",
       "      <td>ONE PIECE</td>\n",
       "      <td>OP</td>\n",
       "      <td>https://myanimelist.cdn-dena.com/images/anime/...</td>\n",
       "      <td>TV</td>\n",
       "      <td>Manga</td>\n",
       "      <td>0</td>\n",
       "      <td>Currently Airing</td>\n",
       "      <td>...</td>\n",
       "      <td>Sundays at 09:30 (JST)</td>\n",
       "      <td>{'Adaptation': [{'mal_id': 13, 'type': 'manga'...</td>\n",
       "      <td>Fuji TV, TAP, Shueisha</td>\n",
       "      <td>Funimation, 4Kids Entertainment</td>\n",
       "      <td>Toei Animation</td>\n",
       "      <td>Action, Adventure, Comedy, Super Power, Drama,...</td>\n",
       "      <td>['#01: \"We Are! (ウィーアー!)\" by Hiroshi Kitadani ...</td>\n",
       "      <td>['#01: \"memories\" by Maki Otsuki (eps 1-30)', ...</td>\n",
       "      <td>24.0</td>\n",
       "      <td>1999.0</td>\n",
       "    </tr>\n",
       "  </tbody>\n",
       "</table>\n",
       "<p>1 rows × 33 columns</p>\n",
       "</div>"
      ],
      "text/plain": [
       "    anime_id      title title_english title_japanese title_synonyms  \\\n",
       "34        21  One Piece     One Piece      ONE PIECE             OP   \n",
       "\n",
       "                                            image_url type source  episodes  \\\n",
       "34  https://myanimelist.cdn-dena.com/images/anime/...   TV  Manga         0   \n",
       "\n",
       "              status  ...               broadcast  \\\n",
       "34  Currently Airing  ...  Sundays at 09:30 (JST)   \n",
       "\n",
       "                                              related                producer  \\\n",
       "34  {'Adaptation': [{'mal_id': 13, 'type': 'manga'...  Fuji TV, TAP, Shueisha   \n",
       "\n",
       "                           licensor          studio  \\\n",
       "34  Funimation, 4Kids Entertainment  Toei Animation   \n",
       "\n",
       "                                                genre  \\\n",
       "34  Action, Adventure, Comedy, Super Power, Drama,...   \n",
       "\n",
       "                                        opening_theme  \\\n",
       "34  ['#01: \"We Are! (ウィーアー!)\" by Hiroshi Kitadani ...   \n",
       "\n",
       "                                         ending_theme  duration_min  \\\n",
       "34  ['#01: \"memories\" by Maki Otsuki (eps 1-30)', ...          24.0   \n",
       "\n",
       "    aired_from_year  \n",
       "34           1999.0  \n",
       "\n",
       "[1 rows x 33 columns]"
      ]
     },
     "execution_count": 26,
     "metadata": {},
     "output_type": "execute_result"
    }
   ],
   "source": [
    "df_anime_cleaned[df_anime_cleaned['anime_id'] == 21]"
   ]
  },
  {
   "cell_type": "markdown",
   "id": "9b2c65f3",
   "metadata": {},
   "source": [
    "## Brainstorming:\n",
    "\n",
    "Ideas:\n",
    "1. Use KNNs to find similar anime based off of anime similarity using info such as genre. Something like what this person did: https://github.com/Mohitkumar6122/Anime-Recommendation/blob/master/Anime_Recommend_using_KNN.ipynb\n",
    "\n",
    "2. Use Frequent Pattern Mining (similar to our hw1 with movies, actually very similar, but now we actually want to generate recommendations from input)\n",
    "    > what if input anime is NOT in our list? do we do a web scrape?\n",
    "    > if input anime is in our list, then task is easy...\n",
    "\n",
    "3. RNN / Transformers (more advanced and not covered in this class)\n",
    "> getting ideas from here: https://ieeexplore.ieee.org/document/9873070"
   ]
  },
  {
   "cell_type": "markdown",
   "id": "167b4743",
   "metadata": {},
   "source": []
  }
 ],
 "metadata": {
  "kernelspec": {
   "display_name": "Python 3 (ipykernel)",
   "language": "python",
   "name": "python3"
  },
  "language_info": {
   "codemirror_mode": {
    "name": "ipython",
    "version": 3
   },
   "file_extension": ".py",
   "mimetype": "text/x-python",
   "name": "python",
   "nbconvert_exporter": "python",
   "pygments_lexer": "ipython3",
   "version": "3.10.13"
  }
 },
 "nbformat": 4,
 "nbformat_minor": 5
}
