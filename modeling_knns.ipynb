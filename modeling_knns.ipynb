{
 "cells": [
  {
   "cell_type": "markdown",
   "id": "ab992f17-cbff-486c-ba28-30430f28c5b1",
   "metadata": {},
   "source": [
    "### kNNs\n",
    "\n",
    "This will be the fallback approach. If a new user who has never been in the database comes along with a list of anime they liked, how are we going to use the SVD algo? We can't unless we put this new data point into the dataset and retrain. But that is slow. Therefore, we will need to have a different, fallback method. To keep things simple, we can use only the genre type as a feature of the anime and try to compute distance metrics on those features between different anime. Close anime are similar anime we will recommend. "
   ]
  },
  {
   "cell_type": "code",
   "execution_count": 1,
   "id": "256fde3a-9ab8-4e16-b631-c66ff1ef3c11",
   "metadata": {},
   "outputs": [
    {
     "name": "stderr",
     "output_type": "stream",
     "text": [
      "/tmp/ipykernel_202690/3842437144.py:1: DeprecationWarning: \n",
      "Pyarrow will become a required dependency of pandas in the next major release of pandas (pandas 3.0),\n",
      "(to allow more performant data types, such as the Arrow string type, and better interoperability with other libraries)\n",
      "but was not found to be installed on your system.\n",
      "If this would cause problems for you,\n",
      "please provide us feedback at https://github.com/pandas-dev/pandas/issues/54466\n",
      "        \n",
      "  import pandas as pd\n"
     ]
    }
   ],
   "source": [
    "import pandas as pd\n",
    "import pickle"
   ]
  },
  {
   "cell_type": "code",
   "execution_count": 2,
   "id": "acb190bb-0527-4402-a80f-063f3afaac6d",
   "metadata": {},
   "outputs": [],
   "source": [
    "userID2userNameMap = {}\n",
    "userName2userIDMap = {}\n",
    "\n",
    "animeID2animeNameMap = {}\n",
    "animeName2animeIDMap = {}\n",
    "\n",
    "with open('userName2userIDMap.pkl', 'rb') as f:\n",
    "    userName2userIDMap = pickle.load(f)\n",
    "\n",
    "with open('userID2userNameMap.pkl', 'rb') as f:\n",
    "    userID2userNameMap = pickle.load(f)\n",
    "\n",
    "\n",
    "with open('animeID2animeNameMap.pkl', 'rb') as f:\n",
    "    animeID2animeNameMap = pickle.load(f)\n",
    "\n",
    "with open('animeName2animeIDMap.pkl', 'rb') as f:\n",
    "    animeName2animeIDMap = pickle.load(f)"
   ]
  },
  {
   "cell_type": "code",
   "execution_count": 3,
   "id": "39b04769-0244-405d-8f99-c4f8256bb39e",
   "metadata": {},
   "outputs": [],
   "source": [
    "df = None\n",
    "with open('df_custom.pkl', 'rb') as f:\n",
    "    df = pickle.load(f)"
   ]
  },
  {
   "cell_type": "code",
   "execution_count": 4,
   "id": "5d63c2a5-5d3a-4198-bb4a-db5eec8ffe58",
   "metadata": {},
   "outputs": [
    {
     "data": {
      "text/html": [
       "<div>\n",
       "<style scoped>\n",
       "    .dataframe tbody tr th:only-of-type {\n",
       "        vertical-align: middle;\n",
       "    }\n",
       "\n",
       "    .dataframe tbody tr th {\n",
       "        vertical-align: top;\n",
       "    }\n",
       "\n",
       "    .dataframe thead th {\n",
       "        text-align: right;\n",
       "    }\n",
       "</style>\n",
       "<table border=\"1\" class=\"dataframe\">\n",
       "  <thead>\n",
       "    <tr style=\"text-align: right;\">\n",
       "      <th></th>\n",
       "      <th>user_id</th>\n",
       "      <th>anime_id</th>\n",
       "      <th>score</th>\n",
       "    </tr>\n",
       "  </thead>\n",
       "  <tbody>\n",
       "    <tr>\n",
       "      <th>0</th>\n",
       "      <td>2255153</td>\n",
       "      <td>21</td>\n",
       "      <td>9</td>\n",
       "    </tr>\n",
       "    <tr>\n",
       "      <th>1</th>\n",
       "      <td>2255153</td>\n",
       "      <td>59</td>\n",
       "      <td>7</td>\n",
       "    </tr>\n",
       "    <tr>\n",
       "      <th>2</th>\n",
       "      <td>2255153</td>\n",
       "      <td>74</td>\n",
       "      <td>7</td>\n",
       "    </tr>\n",
       "    <tr>\n",
       "      <th>3</th>\n",
       "      <td>2255153</td>\n",
       "      <td>120</td>\n",
       "      <td>7</td>\n",
       "    </tr>\n",
       "    <tr>\n",
       "      <th>4</th>\n",
       "      <td>2255153</td>\n",
       "      <td>178</td>\n",
       "      <td>7</td>\n",
       "    </tr>\n",
       "    <tr>\n",
       "      <th>...</th>\n",
       "      <td>...</td>\n",
       "      <td>...</td>\n",
       "      <td>...</td>\n",
       "    </tr>\n",
       "    <tr>\n",
       "      <th>31284025</th>\n",
       "      <td>4862000</td>\n",
       "      <td>15611</td>\n",
       "      <td>9</td>\n",
       "    </tr>\n",
       "    <tr>\n",
       "      <th>31284026</th>\n",
       "      <td>4862000</td>\n",
       "      <td>27815</td>\n",
       "      <td>9</td>\n",
       "    </tr>\n",
       "    <tr>\n",
       "      <th>31284027</th>\n",
       "      <td>299167</td>\n",
       "      <td>5945</td>\n",
       "      <td>8</td>\n",
       "    </tr>\n",
       "    <tr>\n",
       "      <th>31284028</th>\n",
       "      <td>263803</td>\n",
       "      <td>1316</td>\n",
       "      <td>9</td>\n",
       "    </tr>\n",
       "    <tr>\n",
       "      <th>31284029</th>\n",
       "      <td>48074</td>\n",
       "      <td>1744</td>\n",
       "      <td>10</td>\n",
       "    </tr>\n",
       "  </tbody>\n",
       "</table>\n",
       "<p>31284030 rows × 3 columns</p>\n",
       "</div>"
      ],
      "text/plain": [
       "          user_id  anime_id  score\n",
       "0         2255153        21      9\n",
       "1         2255153        59      7\n",
       "2         2255153        74      7\n",
       "3         2255153       120      7\n",
       "4         2255153       178      7\n",
       "...           ...       ...    ...\n",
       "31284025  4862000     15611      9\n",
       "31284026  4862000     27815      9\n",
       "31284027   299167      5945      8\n",
       "31284028   263803      1316      9\n",
       "31284029    48074      1744     10\n",
       "\n",
       "[31284030 rows x 3 columns]"
      ]
     },
     "execution_count": 4,
     "metadata": {},
     "output_type": "execute_result"
    }
   ],
   "source": [
    "df"
   ]
  },
  {
   "cell_type": "code",
   "execution_count": 5,
   "id": "6142cff1-94d2-4d38-8491-e16536d39e22",
   "metadata": {},
   "outputs": [
    {
     "data": {
      "text/plain": [
       "'Xinil'"
      ]
     },
     "execution_count": 5,
     "metadata": {},
     "output_type": "execute_result"
    }
   ],
   "source": [
    "userID2userNameMap[1]"
   ]
  },
  {
   "cell_type": "code",
   "execution_count": null,
   "id": "53b60f77-b2f0-4a9b-b861-2c7a57d7219e",
   "metadata": {},
   "outputs": [],
   "source": []
  }
 ],
 "metadata": {
  "kernelspec": {
   "display_name": "Python 3 (ipykernel)",
   "language": "python",
   "name": "python3"
  },
  "language_info": {
   "codemirror_mode": {
    "name": "ipython",
    "version": 3
   },
   "file_extension": ".py",
   "mimetype": "text/x-python",
   "name": "python",
   "nbconvert_exporter": "python",
   "pygments_lexer": "ipython3",
   "version": "3.10.13"
  }
 },
 "nbformat": 4,
 "nbformat_minor": 5
}
